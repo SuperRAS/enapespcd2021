{
 "cells": [
  {
   "cell_type": "markdown",
   "metadata": {},
   "source": [
    "# Aula 6 - Exercícios Extra - Pandas e Fontes de dados"
   ]
  },
  {
   "cell_type": "code",
   "execution_count": null,
   "metadata": {},
   "outputs": [],
   "source": [
    "#@title Init Cell - Execute-me!!!\n",
    "import sys\n",
    "from datetime import datetime\n",
    "import requests\n",
    "import time\n",
    "from requests.utils import quote\n",
    "url = 'https://docs.google.com/forms/d/e/1FAIpQLSeASSC8-w8FmfodZ4lBnuSEAvYuE4vatIBowLIREG1f-2pIpA/formResponse?usp=pp_url&entry.1986154915=mbacd&entry.513694412=2021&entry.1914621244=CienciaDeDados'\n",
    "\n",
    "def format_values(values):\n",
    "    return {\n",
    "        \"entry.1269959472\": values['student_id'],\n",
    "        \"entry.1799867692\": str(values['exercise_number']).replace(\".\", \"_\"),\n",
    "        \"entry.886231469\": values['exercise_score'],\n",
    "        \"entry.1491599254\": values['exercise_extra'],\n",
    "        \"entry.1342537331\": values['id']\n",
    "    }\n",
    "\n",
    "def send_attendance(url, data):\n",
    "    count = 0\n",
    "    while count < 3:\n",
    "        count += 1\n",
    "        try:\n",
    "          r = requests.post(url, data=data)\n",
    "          break\n",
    "        except:\n",
    "          print(\"Error Occured!\")\n",
    "          time.sleep(2)\n",
    "\n",
    "def validate(func, inputs, outfunc, outputs, exercise_number, exercise_extra):\n",
    "  answers_status = True\n",
    "  for k, v in zip(inputs, outputs):\n",
    "    ans = func(*k)\n",
    "    try:\n",
    "        result = outfunc(ans) == v\n",
    "        if not result:\n",
    "          answers_status = False\n",
    "          print(f\"Resposta incorreta. {func.__name__}({k}) deveria ser {v}, mas retornou {ans}\")\n",
    "    except ValueError as ve:\n",
    "        print(ve)\n",
    "        pass\n",
    "        if not result.all():\n",
    "          answers_status = False\n",
    "          print(f\"Resposta incorreta. {func.__name__}({k}) deveria ser {v}, mas retornou {ans}\")\n",
    "\n",
    "  if answers_status:\n",
    "      student_email=!gcloud config get-value account\n",
    "      if not student_email or 'unset' in student_email[0]:\n",
    "        !gcloud auth login\n",
    "        student_email=!gcloud config get-value account\n",
    "      exercise_score = True\n",
    "      values = {\"exercise_number\": exercise_number, \"student_id\": student_email[0],\n",
    "                \"exercise_points\": 1, \"exercise_score\": exercise_score, \n",
    "                \"exercise_extra\": exercise_extra,\n",
    "                \"id\": f\"{student_email[0]}_{exercise_number}\"}\n",
    "      final_data = format_values(values)\n",
    "      send_attendance(f\"{url}&emailAddress={quote(str(student_email[0]))}\", final_data)\n",
    "#       print(\"Parabéns\")\n",
    "      return \"Parabéns!\"\n",
    "  else:\n",
    "      return False\n"
   ]
  },
  {
   "cell_type": "code",
   "execution_count": null,
   "metadata": {},
   "outputs": [],
   "source": [
    "# Importe as bibliotecas pandas, numpy\n",
    "import pandas as pd\n",
    "import numpy as np"
   ]
  },
  {
   "cell_type": "markdown",
   "metadata": {},
   "source": [
    "### 6.5 Considerando o dataframe abaixo, adicione uma coluna a esse dataframe para guardar o valor do código IBGE que está junto com o nome do município na coluna Muncípio. \n",
    "|    | Município                      |     1991 |   2000 |   2010 |\n",
    "|---:|:-------------------------------|---------:|-------:|-------:|\n",
    "|  0 | 110001 Alta Floresta D'Oeste   |   0.5983 | 0.5868 | 0.5893 |\n",
    "|  1 | 110037 Alto Alegre dos Parecis | nan      | 0.508  | 0.5491 |\n",
    "|  2 | 110040 Alto Paraíso            | nan      | 0.6256 | 0.5417 |\n",
    "|  3 | 110034 Alvorada D'Oeste        |   0.569  | 0.6534 | 0.5355 |\n",
    "|  4 | 110002 Ariquemes               |   0.5827 | 0.5927 | 0.5496 |\n",
    "\n",
    "#### Resultado esperado:\n",
    "|    | Município                      |     1991 |   2000 |   2010 |   cod_ibge6 |\n",
    "|---:|:-------------------------------|---------:|-------:|-------:|------------:|\n",
    "|  0 | 110001 Alta Floresta D'Oeste   |   0.5983 | 0.5868 | 0.5893 |      110001 |\n",
    "|  1 | 110037 Alto Alegre dos Parecis | nan      | 0.508  | 0.5491 |      110037 |\n",
    "|  2 | 110040 Alto Paraíso            | nan      | 0.6256 | 0.5417 |      110040 |\n",
    "|  3 | 110034 Alvorada D'Oeste        |   0.569  | 0.6534 | 0.5355 |      110034 |\n",
    "|  4 | 110002 Ariquemes               |   0.5827 | 0.5927 | 0.5496 |      110002 |\n",
    "\n",
    "#### Dica: use a função apply"
   ]
  },
  {
   "cell_type": "code",
   "execution_count": null,
   "metadata": {
    "deletable": false,
    "nbgrader": {
     "cell_type": "code",
     "checksum": "dfbb415cc1b4ef3f486f0050b0b36696",
     "grade": false,
     "grade_id": "cell-c705ab9d11473b9f9",
     "locked": false,
     "schema_version": 3,
     "solution": true,
     "task": false
    }
   },
   "outputs": [],
   "source": [
    "def adiciona_cod_ibge6(df):\n",
    "    \"\"\"retorne um dataframe com o código ibge de 6 dígitos numa coluna separada.\n",
    "    \"\"\"\n",
    "    # YOUR CODE HERE\n",
    "    raise NotImplementedError()\n"
   ]
  },
  {
   "cell_type": "code",
   "execution_count": null,
   "metadata": {},
   "outputs": [],
   "source": [
    "## Faça seus testes aqui\n",
    "test_data = {'Município': {0: \"110001 Alta Floresta D'Oeste\",\n",
    "  1: '110037 Alto Alegre dos Parecis',  2: '110040 Alto Paraíso',\n",
    "  3: \"110034 Alvorada D'Oeste\",  4: '110002 Ariquemes'},\n",
    " '1991': {0: 0.5983, 1: 0, 2: 0, 3: 0.569, 4: 0.5827},\n",
    " '2000': {0: 0.5868, 1: 0.508, 2: 0.6256, 3: 0.6534, 4: 0.5927},\n",
    " '2010': {0: 0.5893, 1: 0.5491, 2: 0.5417, 3: 0.5355, 4: 0.5496}}\n",
    "df = pd.DataFrame(test_data)\n",
    "df"
   ]
  },
  {
   "cell_type": "code",
   "execution_count": null,
   "metadata": {
    "deletable": false,
    "editable": false,
    "nbgrader": {
     "cell_type": "code",
     "checksum": "8da4f6942241a8bf0877ae0ab201562e",
     "grade": true,
     "grade_id": "cell-9ffdsa88d58e9282a",
     "locked": true,
     "points": 1,
     "schema_version": 3,
     "solution": false,
     "task": false
    }
   },
   "outputs": [],
   "source": [
    "# Validação\n",
    "test_data = {'Município': {0: \"110001 Alta Floresta D'Oeste\",\n",
    "  1: '110037 Alto Alegre dos Parecis',  2: '110040 Alto Paraíso',\n",
    "  3: \"110034 Alvorada D'Oeste\",  4: '110002 Ariquemes'},\n",
    " '1991': {0: 0.5983, 1: 0, 2: 0, 3: 0.569, 4: 0.5827},\n",
    " '2000': {0: 0.5868, 1: 0.508, 2: 0.6256, 3: 0.6534, 4: 0.5927},\n",
    " '2010': {0: 0.5893, 1: 0.5491, 2: 0.5417, 3: 0.5355, 4: 0.5496}}\n",
    "df = pd.DataFrame(test_data)\n",
    "\n",
    "entradas = [[df]]\n",
    "saidas = [{0: 0.5893, 1: 0.5491, 2: 0.5417, 3: 0.5355, 4: 0.5496}]\n",
    "validate(adiciona_cod_ibge6, entradas, lambda x: x['2010'].to_dict(), saidas, \"6.5\", True)"
   ]
  },
  {
   "cell_type": "markdown",
   "metadata": {},
   "source": [
    "### 6.6 Escreva uma função para carregar corretamente o dataframe de morbidade disponibilizado. A função deve receber como argumento o caminho para o dataset. Renomeie as colunas apropriadamente. A coluna com o nome do municipio deve se chamar municipio (sem acento) e a coluna com o codigo ibge de 7 caracteres cod_ibge7. \n",
    "\n",
    "#### Dica 1: No dataset de morbidade existem valores NA representados por caracteres específicos em várias colunas do dataframe. Descubra quais são esses caracteres e especifiquei no argumento na_values. Passe nesse argumento uma lista como os caracteres que devem ser interpretados como NA.\n",
    "#### Dica 2: No dataset de morbidade, especifique o separador, o caracter de números decimais e o tipo do dado do cod_ibge6 como str. Ou seja, dtype={'cod_ibge6': str}."
   ]
  },
  {
   "cell_type": "code",
   "execution_count": null,
   "metadata": {
    "deletable": false,
    "nbgrader": {
     "cell_type": "code",
     "checksum": "2248e7c0d50b48adacf18411fed24ff1",
     "grade": false,
     "grade_id": "cell-44f15980fdef6a10",
     "locked": false,
     "schema_version": 3,
     "solution": true,
     "task": false
    }
   },
   "outputs": [],
   "source": [
    "def load_morbidade(path_morbidade):\n",
    "    \"\"\"retorne o dataframe de morbidade.\n",
    "    \"\"\"\n",
    "    # YOUR CODE HERE\n",
    "    raise NotImplementedError()\n"
   ]
  },
  {
   "cell_type": "code",
   "execution_count": null,
   "metadata": {},
   "outputs": [],
   "source": [
    "## Faça seus testes aqui\n",
    "path_morbidade = 'https://github.com/alexlopespereira/curso_ciencia_dados2021/raw/master/data/originais/morbidade/consolidado/morbidade.csv'\n"
   ]
  },
  {
   "cell_type": "code",
   "execution_count": null,
   "metadata": {},
   "outputs": [],
   "source": [
    "# Validação para nota\n",
    "path_morbidade = 'https://github.com/alexlopespereira/curso_ciencia_dados2021/raw/master/data/originais/morbidade/consolidado/morbidade.csv'\n",
    "entradas = [[path_morbidade]]\n",
    "saidas = [{'Internações': 193.0, 'AIH_aprovadas': 193, 'cod_ibge6': '110001'}]\n",
    "validate(load_morbidade, entradas, lambda x: x.iloc[0,[2,3,15]].to_dict(), saidas, \"6.6\", True)"
   ]
  },
  {
   "cell_type": "markdown",
   "metadata": {},
   "source": [
    "### 6.7 Escreva uma função para carregar corretamente o dataframe de PIB de 2017 disponibilizado. A função deve receber como argumento o caminho para o dataset. Renomeie as colunas apropriadamente. A coluna com o nome do municipio deve se chamar municipio (sem acento) e a coluna com o codigo ibge de 7 caracteres cod_ibge7. \n",
    "\n",
    "#### Dica 1: Especifique o dtype da coluna que contém o codigo do municipio, para carregá-lo como str (string).\n",
    "#### Dica 2: Use a função rename e um dicionário como este do exemplo para renomear as colunas. Exemplo: {'Unnamed: 0': 'nivel', 'Unnamed: 1': 'cod_ibge7', 'Unnamed: 2': 'municipio'}. "
   ]
  },
  {
   "cell_type": "code",
   "execution_count": null,
   "metadata": {
    "deletable": false,
    "nbgrader": {
     "cell_type": "code",
     "checksum": "5dd151f5fc0c09453e4718758ee25580",
     "grade": false,
     "grade_id": "cell-b80da5ea68f40618",
     "locked": false,
     "schema_version": 3,
     "solution": true,
     "task": false
    }
   },
   "outputs": [],
   "source": [
    "def load_pib(path_pib):\n",
    "    \"\"\"retorne o dataframe do pib\n",
    "    \"\"\"\n",
    "    # YOUR CODE HERE\n",
    "    raise NotImplementedError()\n"
   ]
  },
  {
   "cell_type": "code",
   "execution_count": null,
   "metadata": {},
   "outputs": [],
   "source": [
    "## Faça seus testes aqui\n",
    "path_pib = 'https://github.com/alexlopespereira/enapespcd2021/raw/main/data/originais/pib/pib_municipios.xlsx'\n"
   ]
  },
  {
   "cell_type": "code",
   "execution_count": null,
   "metadata": {},
   "outputs": [],
   "source": [
    "# Validação para nota\n",
    "path_pib = 'https://github.com/alexlopespereira/enapespcd2021/raw/main/data/originais/pib/pib_municipios.xlsx'\n",
    "entradas = [[path_pib]]\n",
    "saidas = [{'nivel': 'MU', 'cod_ibge7': '1100015', 'municipio': \"Alta Floresta D'Oeste (RO)\",\n",
    " '2007': 191364, '2009': 256986, '2011': 280510, '2013': 341325, '2015': 421300, '2017': 498864}]\n",
    "validate(load_pib, entradas, lambda x: x.iloc[0].to_dict(), saidas, \"6.7\", True)"
   ]
  }
 ],
 "metadata": {
  "kernelspec": {
   "display_name": "Python 3",
   "language": "python",
   "name": "python3"
  },
  "language_info": {
   "codemirror_mode": {
    "name": "ipython",
    "version": 3
   },
   "file_extension": ".py",
   "mimetype": "text/x-python",
   "name": "python",
   "nbconvert_exporter": "python",
   "pygments_lexer": "ipython3",
   "version": "3.8.3"
  },
  "name": "_merged",
  "varInspector": {
   "cols": {
    "lenName": 16,
    "lenType": 16,
    "lenVar": 40
   },
   "kernels_config": {
    "python": {
     "delete_cmd_postfix": "",
     "delete_cmd_prefix": "del ",
     "library": "var_list.py",
     "varRefreshCmd": "print(var_dic_list())"
    },
    "r": {
     "delete_cmd_postfix": ") ",
     "delete_cmd_prefix": "rm(",
     "library": "var_list.r",
     "varRefreshCmd": "cat(var_dic_list()) "
    }
   },
   "types_to_exclude": [
    "module",
    "function",
    "builtin_function_or_method",
    "instance",
    "_Feature"
   ],
   "window_display": false
  }
 },
 "nbformat": 4,
 "nbformat_minor": 4
}
