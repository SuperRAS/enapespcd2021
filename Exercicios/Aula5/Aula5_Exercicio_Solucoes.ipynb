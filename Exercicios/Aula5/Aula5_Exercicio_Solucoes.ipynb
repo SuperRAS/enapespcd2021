{
 "cells": [
  {
   "cell_type": "markdown",
   "metadata": {},
   "source": [
    "# Aula 5 - Exercícios - Python e Pandas"
   ]
  },
  {
   "cell_type": "markdown",
   "metadata": {},
   "source": [
    "### Onde buscar informações sobre as funções do Pandas\n",
    "[https://pandas.pydata.org/docs/](https://pandas.pydata.org/docs/)"
   ]
  },
  {
   "cell_type": "code",
   "execution_count": null,
   "metadata": {},
   "outputs": [],
   "source": [
    "#@title Init Cell - Execute-me!!!\n",
    "import sys\n",
    "from datetime import datetime\n",
    "import requests\n",
    "import time\n",
    "from requests.utils import quote\n",
    "url = 'https://docs.google.com/forms/d/e/1FAIpQLSeASSC8-w8FmfodZ4lBnuSEAvYuE4vatIBowLIREG1f-2pIpA/formResponse?usp=pp_url&entry.1986154915=mbacd&entry.513694412=2021&entry.1914621244=CienciaDeDados'\n",
    "\n",
    "def format_values(values):\n",
    "    return {\n",
    "        \"entry.1269959472\": values['student_id'],\n",
    "        \"entry.1799867692\": str(values['exercise_number']).replace(\".\", \"_\"),\n",
    "        \"entry.886231469\": values['exercise_score'],\n",
    "        \"entry.1491599254\": values['exercise_extra'],\n",
    "        \"entry.1342537331\": values['id']\n",
    "    }\n",
    "\n",
    "def send_attendance(url, data):\n",
    "    count = 0\n",
    "    while count < 3:\n",
    "        count += 1\n",
    "        try:\n",
    "          r = requests.post(url, data=data)\n",
    "          break\n",
    "        except:\n",
    "          print(\"Error Occured!\")\n",
    "          time.sleep(2)\n",
    "\n",
    "def validate(func, inputs, outfunc, outputs, exercise_number, exercise_extra):\n",
    "  answers_status = True\n",
    "  for k, v in zip(inputs, outputs):\n",
    "    ans = func(*k)\n",
    "    result = None\n",
    "    try:\n",
    "        result = outfunc(ans) == v\n",
    "        if not result:\n",
    "          answers_status = False\n",
    "          print(f\"Resposta incorreta. {func.__name__}({k}) deveria ser {v}, mas retornou {ans}\")\n",
    "    except ValueError:\n",
    "        pass\n",
    "        if not result.all():\n",
    "          answers_status = False\n",
    "          print(f\"Resposta incorreta. {func.__name__}({k}) deveria ser {v}, mas retornou {ans}\")\n",
    "\n",
    "  if answers_status:\n",
    "      student_email=!gcloud config get-value account\n",
    "      if not student_email or 'unset' in student_email[0]:\n",
    "        !gcloud auth login\n",
    "        student_email=!gcloud config get-value account\n",
    "      exercise_score = True\n",
    "      values = {\"exercise_number\": exercise_number, \"student_id\": student_email[0],\n",
    "                \"exercise_points\": 1, \"exercise_score\": exercise_score, \n",
    "                \"exercise_extra\": exercise_extra,\n",
    "                \"id\": f\"{student_email[0]}_{exercise_number}\"}\n",
    "      final_data = format_values(values)\n",
    "      send_attendance(f\"{url}&emailAddress={quote(str(student_email[0]))}\", final_data)\n",
    "      print(\"Parabéns\")\n"
   ]
  },
  {
   "cell_type": "code",
   "execution_count": null,
   "metadata": {},
   "outputs": [],
   "source": [
    "# Importe as bibliotecas pandas e numpy\n",
    "import pandas as pd\n",
    "import numpy as np"
   ]
  },
  {
   "cell_type": "markdown",
   "metadata": {},
   "source": [
    "### 5.1 Escreva uma função para retornar os itens de uma determinada série que não estejam presentes em outra série \n",
    "#### Exemplo: Considere uma Serie A com os valores [1, 2, 3, 4, 5, 6, 7, 8], e\n",
    "####          uma Serie B com os valores [2, 4, 6, 8, 10, 12]\n",
    "#### Resultado Esperado: Uma Serie com os valores [1, 3, 5, 7]\n",
    "\n",
    "#### Dica 1: a função Series.isin() retorna uma Serie de valores booleanos representando a intersecção da de duas series\n",
    "#### Dica 2: o operador ~ serve para inverter os valores booleanos de uma Serie.\n",
    "#### Exemplo: \n",
    "```~pd.Series([True, False]) \n",
    " 0    False\n",
    " 1    True\n",
    "dtype: bool```\n"
   ]
  },
  {
   "cell_type": "code",
   "execution_count": null,
   "metadata": {
    "nbgrader": {
     "grade": false,
     "grade_id": "cell-c705b9d11473b9f9",
     "locked": false,
     "schema_version": 3,
     "solution": true,
     "task": false
    }
   },
   "outputs": [],
   "source": [
    "def complemento(s1, s2):\n",
    "    \"\"\"retorne os valores do complemento de s1 em relação a s2\n",
    "    \"\"\"\n",
    "    ### BEGIN SOLUTION\n",
    "    return s1[~s1.isin(s2)]\n",
    "    ### END SOLUTION\n"
   ]
  },
  {
   "cell_type": "code",
   "execution_count": null,
   "metadata": {},
   "outputs": [],
   "source": [
    "## Faça seus testes aqui\n",
    "s1 = pd.Series([1, 2, 3, 4, 5, 6, 7, 8]) \n",
    "s2 = pd.Series([2, 4, 6, 8, 10, 12]) \n",
    "complemento(s1,s2) \n",
    "# Resultado esperado: \n",
    "# 0    1\n",
    "# 2    3\n",
    "# 4    5\n",
    "# 6    7\n",
    "# dtype: int64"
   ]
  },
  {
   "cell_type": "code",
   "execution_count": null,
   "metadata": {
    "nbgrader": {
     "grade": true,
     "grade_id": "cell-9ffda88d58e9282a",
     "locked": true,
     "points": 1,
     "schema_version": 3,
     "solution": false,
     "task": false
    }
   },
   "outputs": [],
   "source": [
    "# Validação\n",
    "s1 = pd.Series([1, 2, 3, 4, 5, 6, 7, 8]) \n",
    "s2 = pd.Series([2, 4, 6, 8, 10, 12]) \n",
    "c12 = pd.Series([1, 3, 5, 7]) \n",
    "c21 = pd.Series([10, 12]) \n",
    "entradas = [[s1, s2], [s2, s1]]\n",
    "saidas = [c12, c21]\n",
    "validate(complemento, entradas, lambda x: x.reset_index()[0], saidas, \"5.1\", False)"
   ]
  },
  {
   "cell_type": "markdown",
   "metadata": {},
   "source": [
    "### 5.2 Escreva uma função para obter os itens que não são comuns em duas séries. Ou seja, estão na uniao mas não na intersecção.\n",
    "#### Exemplo: Considere uma Serie A com os valores [1, 2, 3, 4, 5, 6, 7, 8], e\n",
    "####          uma Serie B com os valores [2, 4, 6, 8, 10, 12]\n",
    "#### Resultado Esperado: Uma Serie com os valores [1, 3, 5, 7,10,12]\n",
    "#### Dica 1: Pense na teoria de conjuntos. Como você faria isso no papel usando um diagrama de Venn.\n",
    "#### Dica 2: Use a função criada no exercicio 3.1\n",
    "#### Dica 3: Use a função ```np.union1d``` para calcular a união de duas Series.\n",
    "####  Exemplo: o código ```pd.Series(np.union1d(t1, t2))``` cria uma Serie resultante da união de t1 e t2"
   ]
  },
  {
   "cell_type": "code",
   "execution_count": null,
   "metadata": {
    "nbgrader": {
     "grade": false,
     "grade_id": "cell-553ee248eb14bc30",
     "locked": false,
     "schema_version": 3,
     "solution": true,
     "task": false
    }
   },
   "outputs": [],
   "source": [
    "def complemento2(s1, s2):\n",
    "    \"\"\"retorne os valores que não são comuns em duas séries\n",
    "    \"\"\"\n",
    "    ### BEGIN SOLUTION\n",
    "    return pd.Series(np.union1d(complemento(s1, s2), complemento(s2, s1)))\n",
    "    ### END SOLUTION\n"
   ]
  },
  {
   "cell_type": "code",
   "execution_count": null,
   "metadata": {},
   "outputs": [],
   "source": [
    "## Faça seus testes aqui\n",
    "s1 = pd.Series([1, 2, 3, 4, 5, 6, 7, 8]) \n",
    "s2 = pd.Series([2, 4, 6, 8, 10, 12]) \n",
    "\n"
   ]
  },
  {
   "cell_type": "code",
   "execution_count": null,
   "metadata": {
    "nbgrader": {
     "grade": true,
     "grade_id": "cell-0e2bt6cefe06bdc60",
     "locked": true,
     "points": 1,
     "schema_version": 3,
     "solution": false,
     "task": false
    }
   },
   "outputs": [],
   "source": [
    "# Validação\n",
    "s1 = pd.Series([1, 2, 3, 4, 5, 6, 7, 8]) \n",
    "s2 = pd.Series([2, 4, 6, 8, 10, 12]) \n",
    "c = pd.Series([1, 3, 5, 7, 10, 12]) \n",
    "entradas = [[s1, s2]]\n",
    "saidas = [True]\n",
    "validate(complemento2, entradas, lambda x: x.reset_index()[0].equals(c), saidas, \"5.2\", False)"
   ]
  },
  {
   "cell_type": "markdown",
   "metadata": {},
   "source": [
    "### 5.3 Escreva uma função para selecionar as linhas de um dataframe onde o valor na coluna especificada seja ausente (NA)\n"
   ]
  },
  {
   "cell_type": "code",
   "execution_count": null,
   "metadata": {
    "nbgrader": {
     "grade": false,
     "grade_id": "cell-553d5248eb14bc30",
     "locked": false,
     "schema_version": 3,
     "solution": true,
     "task": false
    }
   },
   "outputs": [],
   "source": [
    "def seleciona_null(df, col):\n",
    "    \"\"\"retorne as linhas cujo valor na coluna col seja ausente (NA)\n",
    "    \"\"\"\n",
    "    ### BEGIN SOLUTION\n",
    "    return df[df[col].isnull()]\n",
    "    ### END SOLUTION\n"
   ]
  },
  {
   "cell_type": "code",
   "execution_count": null,
   "metadata": {},
   "outputs": [],
   "source": [
    "## Faça seus testes aqui\n"
   ]
  },
  {
   "cell_type": "code",
   "execution_count": null,
   "metadata": {
    "nbgrader": {
     "grade": true,
     "grade_id": "cell-0e2b6aefe06bdc60",
     "locked": true,
     "points": 1,
     "schema_version": 3,
     "solution": false,
     "task": false
    },
    "scrolled": true
   },
   "outputs": [],
   "source": [
    "# Validação\n",
    "exam_data  = {'name': ['Anastasia', 'Dima', 'Katherine', 'James', 'Emily', 'Michael', 'Matthew', 'Laura', 'Kevin', 'Jonas'],\n",
    "        'score': [12.5, 9, 16.5, np.nan, 9, 20, 14.5, np.nan, 8, 19],\n",
    "        'attempts': [1, 3, 2, 3, 2, 3, 1, 1, 2, 1],\n",
    "        'qualify': ['yes', 'no', 'yes', 'no', 'no', 'yes', 'yes', 'no', 'no', 'yes']}\n",
    "labels = ['a', 'b', 'c', 'd', 'e', 'f', 'g', 'h', 'i', 'j']\n",
    "df = pd.DataFrame(exam_data , index=labels)\n",
    "entradas = [[df, 'score']]\n",
    "saidas = [True]\n",
    "validate(seleciona_null, entradas, lambda x: x.equals(df.loc[['d', 'h']]), saidas, \"5.3\", False)"
   ]
  },
  {
   "cell_type": "markdown",
   "metadata": {},
   "source": [
    "### 5.4 Escreva uma função para mudar o conteúdo de uma coluna de um dataframe, especificando como parâmetros de entrada o nome da coluna, o valor original e o novo valor.\n",
    "#### Exemplo:\n",
    "|    | name      |   score | qualify   |\n",
    "|:---|:----------|--------:|:----------|\n",
    "| a  | Jose |    12.5 | yes       |\n",
    "| b  | Maria      |     9   | no        |\n",
    "| c  | Joao |    16.5 | yes       |\n",
    "| d  | Pedro     |   nan   | no        |\n",
    "\n",
    "#### Resultado Esperado:\n",
    "|    | name      |   score | qualify   |\n",
    "|:---|:----------|--------:|:----------|\n",
    "| a  | Jose |    12.5 | yes       |\n",
    "| b  | Maria      |     9   | no        |\n",
    "| c  | Joao |    16.5 | yes       |\n",
    "| d  | Rafael    |   nan   | no        |\n",
    "\n",
    "#### Dica: Use a função ```Series.replace```. Esta função tem um parâmetro ```inplace``` para modificar o próprio objeto."
   ]
  },
  {
   "cell_type": "code",
   "execution_count": null,
   "metadata": {
    "nbgrader": {
     "grade": false,
     "grade_id": "cell-553f5248eb14bc30",
     "locked": false,
     "schema_version": 3,
     "solution": true,
     "task": false
    }
   },
   "outputs": [],
   "source": [
    "def change_value(df, col, orig, new):\n",
    "    \"\"\"altere a coluna col do dataframe df substituindo orig por new\n",
    "    \"\"\"\n",
    "    ### BEGIN SOLUTION\n",
    "    df[col].replace(orig, new, inplace=True)\n",
    "    return df\n",
    "    ### END SOLUTION\n"
   ]
  },
  {
   "cell_type": "code",
   "execution_count": null,
   "metadata": {},
   "outputs": [],
   "source": [
    "## Faça seus testes aqui\n"
   ]
  },
  {
   "cell_type": "code",
   "execution_count": null,
   "metadata": {
    "nbgrader": {
     "grade": true,
     "grade_id": "cell-0e2b65cefe06bdc60",
     "locked": true,
     "points": 1,
     "schema_version": 3,
     "solution": false,
     "task": false
    }
   },
   "outputs": [],
   "source": [
    "# Validação\n",
    "exam_data  = {'name': ['Jose', 'Maria', 'Joao', 'Pedro', 'Emilia',\n",
    "                       'Marcos', 'Mateus', 'Laura', 'Carlos', 'Jonas'],\n",
    "        'score': [12.5, 9, 16.5, np.nan, 9, 20, 14.5, np.nan, 8, 19],\n",
    "        'qualify': ['yes', 'no', 'yes', 'no', 'no', 'yes', 'yes', 'no', 'no', 'yes']}\n",
    "labels = ['a', 'b', 'c', 'd', 'e', 'f', 'g', 'h', 'i', 'j']\n",
    "exam_data2 = {'name': ['Jose', 'Maria', 'Joao', 'Rafael', 'Emilia',\n",
    "                       'Marcos', 'Mateus', 'Laura', 'Carlos', 'Jonas'],\n",
    "        'score': [12.5, 9, 16.5, np.nan, 9, 20, 14.5, np.nan, 8, 19],\n",
    "        'qualify': ['yes', 'no', 'yes', 'no', 'no', 'yes', 'yes', 'no', 'no', 'yes']}\n",
    "df = pd.DataFrame(exam_data, index=labels) \n",
    "df2 = pd.DataFrame(exam_data2, index=labels) \n",
    "\n",
    "entradas = [[df, 'name', 'Pedro', 'Rafael']]\n",
    "saidas = [True]\n",
    "validate(change_value, entradas, lambda x: x.equals(df2), saidas, \"5.4\", False)"
   ]
  }
 ],
 "metadata": {
  "kernelspec": {
   "display_name": "Python 3",
   "language": "python",
   "name": "python3"
  },
  "language_info": {
   "codemirror_mode": {
    "name": "ipython",
    "version": 3
   },
   "file_extension": ".py",
   "mimetype": "text/x-python",
   "name": "python",
   "nbconvert_exporter": "python",
   "pygments_lexer": "ipython3",
   "version": "3.8.3"
  },
  "name": "_merged",
  "varInspector": {
   "cols": {
    "lenName": 16,
    "lenType": 16,
    "lenVar": 40
   },
   "kernels_config": {
    "python": {
     "delete_cmd_postfix": "",
     "delete_cmd_prefix": "del ",
     "library": "var_list.py",
     "varRefreshCmd": "print(var_dic_list())"
    },
    "r": {
     "delete_cmd_postfix": ") ",
     "delete_cmd_prefix": "rm(",
     "library": "var_list.r",
     "varRefreshCmd": "cat(var_dic_list()) "
    }
   },
   "types_to_exclude": [
    "module",
    "function",
    "builtin_function_or_method",
    "instance",
    "_Feature"
   ],
   "window_display": false
  }
 },
 "nbformat": 4,
 "nbformat_minor": 4
}
