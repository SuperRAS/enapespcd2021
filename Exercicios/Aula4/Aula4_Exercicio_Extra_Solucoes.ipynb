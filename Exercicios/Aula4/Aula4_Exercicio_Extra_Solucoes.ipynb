{
 "cells": [
  {
   "cell_type": "markdown",
   "metadata": {},
   "source": [
    "# Aula 4 - Exercícios Extra - Python e NumPy "
   ]
  },
  {
   "cell_type": "markdown",
   "metadata": {},
   "source": [
    "### Onde buscar informações sobre as funções do Numpy\n",
    "[https://numpy.org/doc/stable/search.html](https://numpy.org/doc/stable/search.html)"
   ]
  },
  {
   "cell_type": "code",
   "execution_count": 21,
   "metadata": {},
   "outputs": [],
   "source": [
    "#@title Init Cell - Execute-me!!!\n",
    "import sys\n",
    "from datetime import datetime\n",
    "import requests\n",
    "import time\n",
    "from requests.utils import quote\n",
    "url = 'https://docs.google.com/forms/d/e/1FAIpQLSeASSC8-w8FmfodZ4lBnuSEAvYuE4vatIBowLIREG1f-2pIpA/formResponse?usp=pp_url&entry.1986154915=mbacd&entry.513694412=2021&entry.1914621244=CienciaDeDados'\n",
    "\n",
    "def format_values(values):\n",
    "    return {\n",
    "        \"entry.1269959472\": values['student_id'],\n",
    "        \"entry.1799867692\": str(values['exercise_number']).replace(\".\", \"_\"),\n",
    "        \"entry.886231469\": values['exercise_score'],\n",
    "        \"entry.1491599254\": values['exercise_extra'],\n",
    "        \"entry.1342537331\": values['id']\n",
    "    }\n",
    "\n",
    "def send_attendance(url, data):\n",
    "    count = 0\n",
    "    while count < 3:\n",
    "        count += 1\n",
    "        try:\n",
    "          r = requests.post(url, data=data)\n",
    "          break\n",
    "        except:\n",
    "          print(\"Error Occured!\")\n",
    "          time.sleep(2)\n",
    "\n",
    "def validate(func, inputs, outfunc, outputs, exercise_number, exercise_extra):\n",
    "  answers_status = True\n",
    "  for k, v in zip(inputs, outputs):\n",
    "    ans = func(*k)\n",
    "    try:\n",
    "        result = outfunc(ans) == v\n",
    "        if not result:\n",
    "          answers_status = False\n",
    "          print(f\"Resposta incorreta. {func.__name__}({k}) deveria ser {v}, mas retornou {ans}\")\n",
    "    except ValueError:\n",
    "        pass\n",
    "        if not result.all():\n",
    "          answers_status = False\n",
    "          print(f\"Resposta incorreta. {func.__name__}({k}) deveria ser {v}, mas retornou {ans}\")\n",
    "\n",
    "  if answers_status:\n",
    "      student_email=!gcloud config get-value account\n",
    "      if not student_email or 'unset' in student_email[0]:\n",
    "        !gcloud auth login\n",
    "        student_email=!gcloud config get-value account\n",
    "      exercise_score = True\n",
    "      values = {\"exercise_number\": exercise_number, \"student_id\": student_email[0],\n",
    "                \"exercise_points\": 1, \"exercise_score\": exercise_score, \n",
    "                \"exercise_extra\": exercise_extra,\n",
    "                \"id\": f\"{student_email[0]}_{exercise_number}\"}\n",
    "      final_data = format_values(values)\n",
    "      send_attendance(f\"{url}&emailAddress={quote(str(student_email[0]))}\", final_data)\n",
    "      print(\"Parabéns\")\n"
   ]
  },
  {
   "cell_type": "code",
   "execution_count": null,
   "metadata": {},
   "outputs": [],
   "source": [
    "import numpy as np"
   ]
  },
  {
   "cell_type": "markdown",
   "metadata": {},
   "source": [
    "### 4.5 Escreva uma função Python para selecionar os elementos de um array que são ao mesmo tempo: maiores que 10, menores que 50 e multiplos de 3.\n",
    "#### Exemplo:  para um array([0, 12, 45, 34, 99])\n",
    "#### Resultado esperado: array([12, 45])\n",
    "#### Dica: Reveja a explicação dos slides 22 e 23 da aula 4. "
   ]
  },
  {
   "cell_type": "code",
   "execution_count": null,
   "metadata": {},
   "outputs": [],
   "source": [
    "\n",
    "def filter_array(arr):\n",
    "    \"\"\"retorne um array numpy contendo números maiores que 10, \n",
    "       menores que 50 e multiplos de 3\n",
    "    \"\"\"\n",
    "    ### BEGIN SOLUTION\n",
    "    return arr[(arr > 10) & (arr < 50) & (arr%3==0)]\n",
    "    ### END SOLUTION"
   ]
  },
  {
   "cell_type": "code",
   "execution_count": null,
   "metadata": {},
   "outputs": [],
   "source": [
    "## Faça seus testes aqui\n",
    "inarr = np.array([0, 12, 45, 34, 99])\n",
    "filter_array(inarr) # Resultado esperado: array([12, 45])\n",
    "\n"
   ]
  },
  {
   "cell_type": "code",
   "execution_count": null,
   "metadata": {},
   "outputs": [],
   "source": [
    "# Validação\n",
    "inarr = np.array([0, 12, 45, 34, 99])\n",
    "outarr = np.array([12, 45])\n",
    "entradas = [[inarr]]\n",
    "saidas = [outarr]\n",
    "validate(filter_array, entradas, lambda x: x, saidas, \"4.5\", True )"
   ]
  },
  {
   "cell_type": "markdown",
   "metadata": {},
   "source": [
    "### 4.6 Escreva uma função Python para criar um array numpy 2D com 1s nos elementos das bordas e com 0s no interior. O tamanho do array deve ser parametrizável.\n",
    "#### Exemplo:  para um n=3\n",
    "#### Resultado esperado: array([[1, 1, 1], [1, 0, 1], [1, 1, 1]])\n",
    "#### Dica: Crie um array bi-dimensional de zeros (com a função np.zeros) e preencha as bordas com 1s, ou crie um array de 1s (com a função np.ones) e preencha o interior com zeros."
   ]
  },
  {
   "cell_type": "code",
   "execution_count": null,
   "metadata": {},
   "outputs": [],
   "source": [
    "def create_array(n):\n",
    "    \"\"\"retorne um array 2d preenchido com 1s nas bordas e 0s no interior \n",
    "    \"\"\"\n",
    "    ### BEGIN SOLUTION\n",
    "    x = np.ones((n,n))\n",
    "    x[1:-1,1:-1] = 0\n",
    "    return x\n",
    "    ### END SOLUTION"
   ]
  },
  {
   "cell_type": "code",
   "execution_count": null,
   "metadata": {},
   "outputs": [],
   "source": [
    "## Faça seus testes aqui\n",
    "create_array(3) # Resultado esperado: array([[1, 1, 1], [1, 0, 1], [1, 1, 1]])\n",
    "\n"
   ]
  },
  {
   "cell_type": "code",
   "execution_count": null,
   "metadata": {},
   "outputs": [],
   "source": [
    "# Validação\n",
    "a3 = np.array([[1, 1, 1], [1, 0, 1], [1, 1, 1]])\n",
    "a6 = np.array([[1., 1., 1., 1., 1., 1.],\n",
    "       [1., 0., 0., 0., 0., 1.],\n",
    "       [1., 0., 0., 0., 0., 1.],\n",
    "       [1., 0., 0., 0., 0., 1.],\n",
    "       [1., 0., 0., 0., 0., 1.],\n",
    "       [1., 1., 1., 1., 1., 1.]])\n",
    "\n",
    "entradas = [[3], [6]]\n",
    "saidas = [a3, a6]\n",
    "validate(create_array, entradas, lambda x: x, saidas, \"4.6\", True)"
   ]
  },
  {
   "cell_type": "markdown",
   "metadata": {},
   "source": [
    "### 4.7 Escreva uma função Python para selecionar dentre os elementos de um array (```arr1``` passado como argumento)  aquele que mais se aproxima de um determinado valor N passado como argumento da função.\n",
    "#### Se houver dois elementos equidistantes de N e forem os mais próximos de N, retorne o menor. Ou seja, para ```[1, 3, 4]``` e ```N=2```, retorne ```1```.\n",
    "#### Não use laços (loops), use funções Numpy.\n",
    "#### Exemplo:  para um ```array([0, 12, 45, 34, 99])``` e ```N=20```\n",
    "#### Resultado esperado: ```12```\n",
    "#### Dica 1: Use as funções np.abs, ndarray.argmin e ndarray.sort \n",
    "[https://numpy.org/doc/stable/reference/generated/numpy.absolute.html?highlight=abs#numpy.absolute](https://numpy.org/doc/stable/reference/generated/numpy.absolute.html?highlight=abs#numpy.absolute)\n",
    "[https://numpy.org/doc/stable/reference/generated/numpy.argmin.html?highlight=argmin#numpy.argmin](https://numpy.org/doc/stable/reference/generated/numpy.argmin.html?highlight=argmin#numpy.argmin)\n",
    "[https://numpy.org/doc/stable/reference/generated/numpy.ndarray.sort.html?highlight=sort#numpy.ndarray.sort](https://numpy.org/doc/stable/reference/generated/numpy.ndarray.sort.html?highlight=sort#numpy.ndarray.sort)\n",
    "#### Dica 2: Comece ordenando o array com a função ndarray.sort \n",
    "#### Dica 3: Crie um array com a diferença entre cada elemento do array de entrada (```arr1```) e o número ```N```, e chame-o de ```dif```. \n",
    "#### Dica 4: Calcule o valor absoluto do array ```dif```, e armazene-o numa variável chamada ```absoluto```.\n",
    "#### Dica 5: De maneira genérica, use uma função numpy para retornar o índice do menor valor de um array, e guarde-o numa variavel chamada ```index```. Este é o índice do elemento do array que mais se aproxima de ```N```. Por que?\n",
    "#### Dica 6: Retorne o elemento do array ```arr1``` na posição guardada em ```index```.\n",
    "\n",
    "#### Curiosidade: Por que se faz necessário ordenar o array ```arr1``` ?\n"
   ]
  },
  {
   "cell_type": "code",
   "execution_count": null,
   "metadata": {
    "nbgrader": {
     "grade": false,
     "grade_id": "cell-e0a4e5deea9187c4",
     "locked": false,
     "schema_version": 3,
     "solution": true,
     "task": false
    }
   },
   "outputs": [],
   "source": [
    "def get_closest(arr1, N):\n",
    "    \"\"\"retorne o elemento do array que mais se aproxima de N.\n",
    "       No caso de dois elementos equidistantes, retorne o menor.\n",
    "    \"\"\"\n",
    "    ### BEGIN SOLUTION\n",
    "    arr1.sort()\n",
    "    dif = arr1-N\n",
    "    absoluto = np.abs(dif)\n",
    "    index = absoluto.argmin()\n",
    "    return arr1[index]\n",
    "    ### END SOLUTION"
   ]
  },
  {
   "cell_type": "code",
   "execution_count": null,
   "metadata": {},
   "outputs": [],
   "source": [
    "## Faça seus testes aqui\n",
    "inarr = np.array([3, 6, 1, 4])\n",
    "get_closest(inarr, 2) # Resultado esperado: 1\n",
    "\n"
   ]
  },
  {
   "cell_type": "code",
   "execution_count": null,
   "metadata": {
    "nbgrader": {
     "grade": true,
     "grade_id": "cell-30d325468b6f6a67",
     "locked": true,
     "points": 1,
     "schema_version": 3,
     "solution": false,
     "task": false
    }
   },
   "outputs": [],
   "source": [
    "# Validação\n",
    "inarr = np.array([3, 6, 1, 4])\n",
    "entradas = [[inarr, 2]]\n",
    "saidas = [1]\n",
    "validate(get_closest, entradas, lambda x: x, saidas, \"4.7\", True )"
   ]
  }
 ],
 "metadata": {
  "celltoolbar": "Create Assignment",
  "kernelspec": {
   "display_name": "Python 3",
   "language": "python",
   "name": "python3"
  },
  "language_info": {
   "codemirror_mode": {
    "name": "ipython",
    "version": 3
   },
   "file_extension": ".py",
   "mimetype": "text/x-python",
   "name": "python",
   "nbconvert_exporter": "python",
   "pygments_lexer": "ipython3",
   "version": "3.8.3"
  },
  "name": "_merged",
  "varInspector": {
   "cols": {
    "lenName": 16,
    "lenType": 16,
    "lenVar": 40
   },
   "kernels_config": {
    "python": {
     "delete_cmd_postfix": "",
     "delete_cmd_prefix": "del ",
     "library": "var_list.py",
     "varRefreshCmd": "print(var_dic_list())"
    },
    "r": {
     "delete_cmd_postfix": ") ",
     "delete_cmd_prefix": "rm(",
     "library": "var_list.r",
     "varRefreshCmd": "cat(var_dic_list()) "
    }
   },
   "types_to_exclude": [
    "module",
    "function",
    "builtin_function_or_method",
    "instance",
    "_Feature"
   ],
   "window_display": false
  }
 },
 "nbformat": 4,
 "nbformat_minor": 4
}
