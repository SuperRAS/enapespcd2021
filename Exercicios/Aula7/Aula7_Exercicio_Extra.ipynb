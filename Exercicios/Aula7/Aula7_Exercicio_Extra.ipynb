{
 "cells": [
  {
   "cell_type": "markdown",
   "metadata": {
    "id": "e4XMhyoUsSdI"
   },
   "source": [
    "# Aula 7 - Exercícios Extra - Pandas Parte 3 (Merge e Join)\n"
   ]
  },
  {
   "cell_type": "code",
   "execution_count": null,
   "metadata": {},
   "outputs": [],
   "source": [
    "#@title Init Cell - Execute-me!!!\n",
    "import sys\n",
    "from datetime import datetime\n",
    "import requests\n",
    "import time\n",
    "from requests.utils import quote\n",
    "\n",
    "url = 'https://docs.google.com/forms/d/e/1FAIpQLSeASSC8-w8FmfodZ4lBnuSEAvYuE4vatIBowLIREG1f-2pIpA/formResponse?usp=pp_url&entry.1986154915=mbacd&entry.513694412=2021&entry.1914621244=CienciaDeDados'\n",
    "\n",
    "def format_values(values):\n",
    "    return {\n",
    "        \"entry.1269959472\": values['student_id'],\n",
    "        \"entry.1799867692\": str(values['exercise_number']).replace(\".\", \"_\"),\n",
    "        \"entry.886231469\": values['exercise_score'],\n",
    "        \"entry.1491599254\": values['exercise_extra'],\n",
    "        \"entry.1342537331\": values['id']\n",
    "    }\n",
    "\n",
    "def send_attendance(url, data):\n",
    "    count = 0\n",
    "    while count < 3:\n",
    "        count += 1\n",
    "        try:\n",
    "          r = requests.post(url, data=data)\n",
    "          break\n",
    "        except:\n",
    "          print(\"Error Occured!\")\n",
    "          time.sleep(2)\n",
    "\n",
    "def validate(func, inputs, outfunc, outputs, exercise_number, exercise_extra):\n",
    "  answers_status = True\n",
    "  for k, v in zip(inputs, outputs):\n",
    "    ans = func(*k)\n",
    "    outans = outfunc(ans)\n",
    "    try:\n",
    "        if isinstance(ans, pd.DataFrame) and isinstance(v, pd.DataFrame):\n",
    "            result = outans.equals(v)\n",
    "        elif (isinstance(ans, np.ndarray) or isinstance(outans, np.ndarray)) and isinstance(v, np.ndarray):\n",
    "            result = np.array_equal(outans, v)\n",
    "        else:\n",
    "            result = outfunc(ans) == v\n",
    "        if not result:\n",
    "          answers_status = False\n",
    "          print(f\"Resposta incorreta. {func.__name__}({k}) deveria ser {v}, mas retornou {ans}\")\n",
    "    except ValueError as ve:\n",
    "        print(ve)\n",
    "        pass\n",
    "        if not result.all():\n",
    "          answers_status = False\n",
    "          print(f\"Resposta incorreta. {func.__name__}({k}) deveria ser {v}, mas retornou {ans}\")\n",
    "\n",
    "  if answers_status:\n",
    "      student_email=!gcloud config get-value account\n",
    "      if not student_email or 'unset' in student_email[0]:\n",
    "        !gcloud auth login\n",
    "        student_email=!gcloud config get-value account\n",
    "      exercise_score = True\n",
    "      values = {\"exercise_number\": exercise_number, \"student_id\": student_email[0],\n",
    "                \"exercise_points\": 1, \"exercise_score\": exercise_score, \n",
    "                \"exercise_extra\": exercise_extra,\n",
    "                \"id\": f\"{student_email[0]}_{exercise_number}\"}\n",
    "      final_data = format_values(values)\n",
    "      send_attendance(f\"{url}&emailAddress={quote(str(student_email[0]))}\", final_data)\n",
    "      return \"Parabéns!\"\n",
    "  else:\n",
    "      return False\n"
   ]
  },
  {
   "cell_type": "code",
   "execution_count": null,
   "metadata": {
    "id": "PR67WsfpsSdV"
   },
   "outputs": [],
   "source": [
    "# Importe as bibliotecas pandas, numpy, glob\n",
    "import pandas as pd\n",
    "import numpy as np"
   ]
  },
  {
   "cell_type": "markdown",
   "metadata": {},
   "source": [
    "### Cole na célula abaixo as funções merge_pop_pib e pib_percapita dos exercícios 7.1 e 7.2. Elas deverão ser utilizadas nesse notebook."
   ]
  },
  {
   "cell_type": "code",
   "execution_count": null,
   "metadata": {
    "deletable": false,
    "nbgrader": {
     "cell_type": "code",
     "checksum": "74238c878c03d4161cec713922e66f2d",
     "grade": false,
     "grade_id": "cell-f140d801348baeb4",
     "locked": false,
     "schema_version": 3,
     "solution": true,
     "task": false
    }
   },
   "outputs": [],
   "source": [
    "def merge_pop_pib(path_pop, path_pib):\n",
    "    \"\"\"retorne um dataframe resultante do merge dos dados do pib e da população\n",
    "    \"\"\"\n",
    "    # YOUR CODE HERE\n",
    "    raise NotImplementedError()\n",
    "    \n",
    "def pib_percapita(pib_pop):\n",
    "    \"\"\"retorne retorne um dataframe contendo o codigo ibge de 7 caracteres,\n",
    "       o nome do municipio e seu PIB percapita.\n",
    "    \"\"\"\n",
    "    # Cole aqui o conteúdo da sua função do exercício 7.2\n",
    "    # YOUR CODE HERE\n",
    "    raise NotImplementedError()\n",
    "    "
   ]
  },
  {
   "cell_type": "markdown",
   "metadata": {},
   "source": [
    "### 7.5 Faça o merge do dataset de contendo o pib percapita com o dataset do índice de gini. \n",
    "#### Dica: Use como identificador dos registros o código do IBGE. Preste atenção na quantidade de caractéres do código de cada dataset e no seu format (texto ou número). Faça sempre merge com chaves compatíveis (mesmo tipo).\n",
    "#### Curiosidade: Os municípios com maior pib percapita são aqueles com melhor índice de gini? Comente com o professor e colegas os resultados à luz de exemplos concretos do seu resultado deste exercício.\n"
   ]
  },
  {
   "cell_type": "code",
   "execution_count": null,
   "metadata": {
    "deletable": false,
    "nbgrader": {
     "cell_type": "code",
     "checksum": "84f34104475df9a628dfe8783c81a276",
     "grade": false,
     "grade_id": "cell-18033649e1abfa0b",
     "locked": false,
     "schema_version": 3,
     "solution": true,
     "task": false
    }
   },
   "outputs": [],
   "source": [
    "def merge_pib_percapita_gini(path_pop, path_pib, path_gini):\n",
    "    \"\"\"retorne o merge dos datasets de gini e morbidade.\n",
    "    \"\"\"\n",
    "    # YOUR CODE HERE\n",
    "    raise NotImplementedError()\n",
    "\n"
   ]
  },
  {
   "cell_type": "code",
   "execution_count": null,
   "metadata": {},
   "outputs": [],
   "source": [
    "## Faça seus testes aqui\n",
    "path_pib = 'https://github.com/alexlopespereira/enapespcd2021/raw/main/data/originais/pib/pib_municipios.xlsx'\n",
    "path_pop = 'https://github.com/alexlopespereira/enapespcd2021/raw/main/data/originais/populacao/estimativa_dou_2017.xlsx'\n",
    "path_gini = 'https://github.com/alexlopespereira/curso_ciencia_dados2021/raw/master/data/originais/gini/ginibr.csv'\n",
    "\n"
   ]
  },
  {
   "cell_type": "code",
   "execution_count": null,
   "metadata": {},
   "outputs": [],
   "source": [
    "path_pib = 'https://github.com/alexlopespereira/enapespcd2021/raw/main/data/originais/pib/pib_municipios.xlsx'\n",
    "path_pop = 'https://github.com/alexlopespereira/enapespcd2021/raw/main/data/originais/populacao/estimativa_dou_2017.xlsx'\n",
    "path_gini = 'https://github.com/alexlopespereira/curso_ciencia_dados2021/raw/master/data/originais/gini/ginibr.csv'\n",
    "\n",
    "entradas = [[path_pop, path_pib, path_gini]]\n",
    "saidas = [{'uf': 'RO', 'cod_uf': '11', 'cod_munic': '00015', 'municipio_x': \"Alta Floresta D'Oeste\",\n",
    " 'pop2017': 25437, 'cod_ibge7': '1100015', 'nivel': 'MU', 'municipio_y': \"Alta Floresta D'Oeste (RO)\",\n",
    " '2007': 191364, '2009': 256986, '2011': 280510, '2013': 341325, '2015': 421300,\n",
    " '2017': 498864, 'cod_ibge6': '110001', 'pib_percapita': 19.6, 'Município': \"Alta Floresta D'Oeste\",\n",
    " '1991': 0.5983, '2000': 0.5868, '2010': 0.5893}]\n",
    "validate(merge_pib_percapita_gini, entradas, lambda x: x.iloc[0].to_dict(), saidas, \"7.5\", True)"
   ]
  },
  {
   "cell_type": "markdown",
   "metadata": {},
   "source": [
    "### 7.6 Escreva uma função para contar quantos nomes dos mesmos municípios são diferentes nas bases de dados do PIB e da população. \n",
    "#### A coluna do nome dos municípios no dataset de PIB contém também o nome da UF. Remova o nome da UF, por exemplo, removendo os 5 últimos caracteres da string do nome do município, antes de efetuar a comparação.\n",
    "#### Dica 1: use a função map (element-wise) do objeto series, ou seja, sobre a coluna col2 do dataframe df.\n",
    "#### Dica 2: passe uma função lambda para o metodo map que executa as instruções do enunciado.\n",
    "#### Dica 3: compare o resultado da execução da funcao map com a coluna col1\n",
    "#### Dica 4: retorne a quantidade de diferenças resultantes da comparação\n",
    "#### Interprete este resultado. O que você pode extrair de aprendizado deste resultado? "
   ]
  },
  {
   "cell_type": "code",
   "execution_count": null,
   "metadata": {
    "deletable": false,
    "nbgrader": {
     "cell_type": "code",
     "checksum": "acf6e4e1b4a525d427b36c9b5cd70b28",
     "grade": false,
     "grade_id": "cell-72cec7068b514aab",
     "locked": false,
     "schema_version": 3,
     "solution": true,
     "task": false
    }
   },
   "outputs": [],
   "source": [
    "def compare_df_cols(df, col1, col2):\n",
    "    \"\"\"retorne a quantidade de registros em que o valor do registro na coluna col1 difere do valor em col2\n",
    "    \"\"\"\n",
    "    # YOUR CODE HERE\n",
    "    raise NotImplementedError()\n"
   ]
  },
  {
   "cell_type": "code",
   "execution_count": null,
   "metadata": {},
   "outputs": [],
   "source": [
    "## Faça seus testes aqui\n",
    "\n"
   ]
  },
  {
   "cell_type": "code",
   "execution_count": null,
   "metadata": {},
   "outputs": [],
   "source": [
    "# Validação\n",
    "path_pib = 'https://github.com/alexlopespereira/enapespcd2021/raw/main/data/originais/pib/pib_municipios.xlsx'\n",
    "path_pop = 'https://github.com/alexlopespereira/enapespcd2021/raw/main/data/originais/populacao/estimativa_dou_2017.xlsx'\n",
    "\n",
    "df_pib_pop = merge_pop_pib(path_pop, path_pib)\n",
    "entradas = [[df_pib_pop, 'municipio_x', 'municipio_y']]\n",
    "saidas = [16]\n",
    "validate(compare_df_cols, entradas, lambda x: x, saidas, \"7.6\", True)"
   ]
  },
  {
   "cell_type": "markdown",
   "metadata": {
    "id": "Mq3BZn3GsSde"
   },
   "source": [
    "### 7.7 Escreva uma função para colocar num mesmo dataframe os dados de PIB percapita e índice de gini dos municípios brasieiros. \n",
    "#### Retorne os registros completos pelo menos os atributos 'pib_percapita', 'cod_ibge6', '1991', '2000' e '2010' dos top 10 registros com maiores PIB percapita.\n",
    "\n",
    "#### Dica 1: Use as funções criadas nos exercícios 4, 5 e 6 desta aula.\n",
    "#### Dica 2: Ao ler o arquivo CSV do índice de gini, se preciso, use encoding='utf8' como parâmetro do método read_csv\n",
    "\n",
    "#### Sugestão: Analise a diferença entre os quartis (do PIB percapita e do índice de gini) dos top 10 municípios, em termos de PIB percapita,  e os quartis de todo o brasil para estas mesmas duas variáveis. Responda: um PIB percapita significativamente maior, tem ajudado a melhorar o índice de Gini nesses municípios ? Dica: use o método describe(). \n",
    "\n"
   ]
  },
  {
   "cell_type": "code",
   "execution_count": null,
   "metadata": {
    "deletable": false,
    "id": "LglG2yhcsSdf",
    "nbgrader": {
     "cell_type": "code",
     "checksum": "adeadfcd2cae88120f0395f7a27e148b",
     "grade": false,
     "grade_id": "cell-553e5248ebs14bc30",
     "locked": false,
     "schema_version": 3,
     "solution": true,
     "task": false
    }
   },
   "outputs": [],
   "source": [
    "def top10_municipios(path_pib, path_gini, path_pop):\n",
    "    \"\"\"retorne um dataframe contendo os 10 municipios com maiores PIB percapita. O dataframe deve conter também \n",
    "    o valor do índice de gini e nome, UF e código ibge do respectivo município.\n",
    "    \"\"\"\n",
    "    # YOUR CODE HERE\n",
    "    raise NotImplementedError()\n"
   ]
  },
  {
   "cell_type": "code",
   "execution_count": null,
   "metadata": {
    "id": "end5nGU7sSdh"
   },
   "outputs": [],
   "source": [
    "## Faça seus testes aqui\n",
    "path_pib = 'https://github.com/alexlopespereira/enapespcd2021/raw/main/data/originais/pib/pib_municipios.xlsx'\n",
    "path_gini = 'https://github.com/alexlopespereira/enapespcd2021/raw/main/data/originais/gini/ginibr.csv'\n",
    "path_pop= 'https://github.com/alexlopespereira/enapespcd2021/raw/main/data/originais/populacao/estimativa_dou_2017.xlsx'\n"
   ]
  },
  {
   "cell_type": "code",
   "execution_count": null,
   "metadata": {
    "deletable": false,
    "editable": false,
    "id": "CWR6HkNlsSdi",
    "nbgrader": {
     "cell_type": "code",
     "checksum": "72b6bbdbe78f73d742b470b74176cd2f",
     "grade": true,
     "grade_id": "cell-0e2bt6cefe06bdc60",
     "locked": true,
     "points": 1,
     "schema_version": 3,
     "solution": false,
     "task": false
    }
   },
   "outputs": [],
   "source": [
    "# Validação\n",
    "path_pib = 'https://github.com/alexlopespereira/enapespcd2021/raw/main/data/originais/pib/pib_municipios.xlsx'\n",
    "path_gini = 'https://github.com/alexlopespereira/enapespcd2021/raw/main/data/originais/gini/ginibr.csv'\n",
    "path_pop='https://github.com/alexlopespereira/enapespcd2021/raw/main/data/originais/populacao/estimativa_dou_2017.xlsx'\n",
    "\n",
    "test_data = {'pib_percapita': 344.8, 'cod_ibge6': '353650', '1991': 0.49, '2000': 0.5734, '2010': 0.488}\n",
    "entradas = [[path_pib, path_gini, path_pop]]\n",
    "saidas = [test_data]\n",
    "validate(top10_municipios, entradas, lambda x: x[['pib_percapita', 'cod_ibge6', '1991', '2000', '2010']].iloc[0].to_dict(), saidas, \"7.7\", True)"
   ]
  },
  {
   "cell_type": "markdown",
   "metadata": {},
   "source": [
    "### 7.8 Usando funções numpy, crie uma imagem igual a imagem a seguir. Sua função deve receber dois argumentos, o tamanho dos tiles (azulejos) e a quantidade de vezes que esses tiles serão repetidos (justapostos lado a lado) em cada uma das dimensões. Retorne um objeto Image da biblioteca PIL.\n",
    "#### Exemplo: para esses valores ```tile_size=9``` e ```rep=3```, o resultado esperado é o da imagem a seguir."
   ]
  },
  {
   "attachments": {
    "pattern.png": {
     "image/png": "[encoded data removed]"
    }
   },
   "cell_type": "markdown",
   "metadata": {},
   "source": [
    "![pattern.png](attachment:pattern.png)\n",
    "### link para a imagem: https://drive.google.com/file/d/1QpZmAe8gcaUdB-Mr0h5Mm17ljg9hxLYV/view?usp=sharing"
   ]
  },
  {
   "cell_type": "code",
   "execution_count": null,
   "metadata": {
    "deletable": false,
    "nbgrader": {
     "cell_type": "code",
     "checksum": "ed5eec28fe42b1b88e336687c2c48663",
     "grade": false,
     "grade_id": "cell-a2279758969d8e97",
     "locked": false,
     "schema_version": 3,
     "solution": true,
     "task": false
    }
   },
   "outputs": [],
   "source": [
    "import urllib.request\n",
    "from matplotlib.pyplot import imshow\n",
    "import matplotlib.pyplot as plt\n",
    "import numpy as np\n",
    "from PIL import Image\n",
    "from bitarray import bitarray \n",
    "%matplotlib inline\n",
    "\n",
    "def pattern_image(tile_size, rep):\n",
    "    # YOUR CODE HERE\n",
    "    raise NotImplementedError()\n"
   ]
  },
  {
   "cell_type": "code",
   "execution_count": null,
   "metadata": {},
   "outputs": [],
   "source": [
    "# Faça seus testes aqui\n",
    "img = pattern_image(9, 3)\n",
    "imshow(np.asarray(img), cmap='gray', vmin=0, vmax=255)\n"
   ]
  },
  {
   "cell_type": "code",
   "execution_count": null,
   "metadata": {},
   "outputs": [],
   "source": [
    "img = pattern_image(9, 3)\n",
    "entradas = [[9, 3]]\n",
    "result = np.array([[255,0,0,0,0,0,0,0,255,255,0,0,0,0,0,0,0,255,255,0,0,0,0,0,0,0,255],\n",
    "[0,255,0,0,0,0,0,255,0,0,255,0,0,0,0,0,255,0,0,255,0,0,0,0,0,255,0],\n",
    "[0,0,255,0,0,0,255,0,0,0,0,255,0,0,0,255,0,0,0,0,255,0,0,0,255,0,0],\n",
    "[0,0,0,255,0,255,0,0,0,0,0,0,255,0,255,0,0,0,0,0,0,255,0,255,0,0,0],\n",
    "[0,0,0,0,255,0,0,0,0,0,0,0,0,255,0,0,0,0,0,0,0,0,255,0,0,0,0],\n",
    "[0,0,0,255,0,255,0,0,0,0,0,0,255,0,255,0,0,0,0,0,0,255,0,255,0,0,0],\n",
    "[0,0,255,0,0,0,255,0,0,0,0,255,0,0,0,255,0,0,0,0,255,0,0,0,255,0,0],\n",
    "[0,255,0,0,0,0,0,255,0,0,255,0,0,0,0,0,255,0,0,255,0,0,0,0,0,255,0],\n",
    "[255,0,0,0,0,0,0,0,255,255,0,0,0,0,0,0,0,255,255,0,0,0,0,0,0,0,255],\n",
    "[255,0,0,0,0,0,0,0,255,255,0,0,0,0,0,0,0,255,255,0,0,0,0,0,0,0,255],\n",
    "[0,255,0,0,0,0,0,255,0,0,255,0,0,0,0,0,255,0,0,255,0,0,0,0,0,255,0],\n",
    "[0,0,255,0,0,0,255,0,0,0,0,255,0,0,0,255,0,0,0,0,255,0,0,0,255,0,0],\n",
    "[0,0,0,255,0,255,0,0,0,0,0,0,255,0,255,0,0,0,0,0,0,255,0,255,0,0,0],\n",
    "[0,0,0,0,255,0,0,0,0,0,0,0,0,255,0,0,0,0,0,0,0,0,255,0,0,0,0],\n",
    "[0,0,0,255,0,255,0,0,0,0,0,0,255,0,255,0,0,0,0,0,0,255,0,255,0,0,0],\n",
    "[0,0,255,0,0,0,255,0,0,0,0,255,0,0,0,255,0,0,0,0,255,0,0,0,255,0,0],\n",
    "[0,255,0,0,0,0,0,255,0,0,255,0,0,0,0,0,255,0,0,255,0,0,0,0,0,255,0],\n",
    "[255,0,0,0,0,0,0,0,255,255,0,0,0,0,0,0,0,255,255,0,0,0,0,0,0,0,255],\n",
    "[255,0,0,0,0,0,0,0,255,255,0,0,0,0,0,0,0,255,255,0,0,0,0,0,0,0,255],\n",
    "[0,255,0,0,0,0,0,255,0,0,255,0,0,0,0,0,255,0,0,255,0,0,0,0,0,255,0],\n",
    "[0,0,255,0,0,0,255,0,0,0,0,255,0,0,0,255,0,0,0,0,255,0,0,0,255,0,0],\n",
    "[0,0,0,255,0,255,0,0,0,0,0,0,255,0,255,0,0,0,0,0,0,255,0,255,0,0,0],\n",
    "[0,0,0,0,255,0,0,0,0,0,0,0,0,255,0,0,0,0,0,0,0,0,255,0,0,0,0],\n",
    "[0,0,0,255,0,255,0,0,0,0,0,0,255,0,255,0,0,0,0,0,0,255,0,255,0,0,0],\n",
    "[0,0,255,0,0,0,255,0,0,0,0,255,0,0,0,255,0,0,0,0,255,0,0,0,255,0,0],\n",
    "[0,255,0,0,0,0,0,255,0,0,255,0,0,0,0,0,255,0,0,255,0,0,0,0,0,255,0],\n",
    "[255,0,0,0,0,0,0,0,255,255,0,0,0,0,0,0,0,255,255,0,0,0,0,0,0,0,255]],dtype=np.uint8)\n",
    "saidas = [result]\n",
    "validate(pattern_image, entradas, lambda x: np.asarray(x), saidas, \"7.8\", True)"
   ]
  }
 ],
 "metadata": {
  "colab": {
   "name": "Aula4_Exercicio_Extra_Solucoes.ipynb",
   "provenance": [],
   "toc_visible": true
  },
  "kernelspec": {
   "display_name": "Python 3",
   "language": "python",
   "name": "python3"
  },
  "language_info": {
   "codemirror_mode": {
    "name": "ipython",
    "version": 3
   },
   "file_extension": ".py",
   "mimetype": "text/x-python",
   "name": "python",
   "nbconvert_exporter": "python",
   "pygments_lexer": "ipython3",
   "version": "3.8.3"
  },
  "name": "_merged",
  "varInspector": {
   "cols": {
    "lenName": 16,
    "lenType": 16,
    "lenVar": 40
   },
   "kernels_config": {
    "python": {
     "delete_cmd_postfix": "",
     "delete_cmd_prefix": "del ",
     "library": "var_list.py",
     "varRefreshCmd": "print(var_dic_list())"
    },
    "r": {
     "delete_cmd_postfix": ") ",
     "delete_cmd_prefix": "rm(",
     "library": "var_list.r",
     "varRefreshCmd": "cat(var_dic_list()) "
    }
   },
   "types_to_exclude": [
    "module",
    "function",
    "builtin_function_or_method",
    "instance",
    "_Feature"
   ],
   "window_display": false
  }
 },
 "nbformat": 4,
 "nbformat_minor": 1
}
