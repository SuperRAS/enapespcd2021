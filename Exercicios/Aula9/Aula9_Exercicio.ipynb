{
 "cells": [
  {
   "cell_type": "markdown",
   "metadata": {},
   "source": [
    "# Aula 9 - Exercício - Agregação com Pandas"
   ]
  },
  {
   "cell_type": "code",
   "execution_count": 1,
   "metadata": {},
   "outputs": [],
   "source": [
    "#@title Init Cell - Execute-me!!!\n",
    "import sys\n",
    "from datetime import datetime\n",
    "import requests\n",
    "import time\n",
    "from requests.utils import quote\n",
    "import types\n",
    "\n",
    "url     = 'https://docs.google.com/forms/d/e/1FAIpQLSeASSC8-w8FmfodZ4lBnuSEAvYuE4vatIBowLIREG1f-2pIpA/formResponse?usp=pp_url&entry.1986154915=mbacd&entry.513694412=2021&entry.1914621244=CienciaDeDados'\n",
    "log_url = 'https://docs.google.com/forms/d/e/1FAIpQLSfRtpAVNRGKDmTxh9FhJKucyNMGeQ8Es_JRyG_HcUUVmM_zQg/formResponse?usp=pp_url&entry.1956860070=mbacd&entry.205464053=2021&entry.1885440499=CienciaDeDados'\n",
    "\n",
    "def format_values(values, data_type=\"EXERCISE\"):\n",
    "    result = {}\n",
    "    if data_type == \"EXERCISE\":\n",
    "        return {\n",
    "        \"entry.1269959472\": values['student_id'],\n",
    "        \"entry.1799867692\": str(values['exercise_number']).replace(\".\", \"_\"),\n",
    "        \"entry.886231469\": values['exercise_score'],\n",
    "        \"entry.1342537331\": values['id']\n",
    "        }\n",
    "    elif data_type == \"LOG\":\n",
    "        return {\n",
    "        \"entry.39852643\": values['student_id'],\n",
    "        \"entry.1437170782\": str(values['exercise_number']).replace(\".\", \"_\"),\n",
    "        \"entry.304785533\": values['log'],\n",
    "        \"entry.2060734065\": values['errors']\n",
    "        }\n",
    "    elif data_type == \"ERROR\":\n",
    "        return None\n",
    "    else:\n",
    "        return None\n",
    "    \n",
    "\n",
    "def send_form(url, data):\n",
    "    count = 0\n",
    "    while count < 3:\n",
    "        count += 1\n",
    "        try:\n",
    "          r = requests.post(url, data=data)\n",
    "          break\n",
    "        except:\n",
    "          print(\"Error Occured!\")\n",
    "          time.sleep(2)\n",
    "\n",
    "            \n",
    "def validate(func, inputs, outfunc, outputs, exercise_number):\n",
    "  global session_log\n",
    "  student_email=!gcloud config get-value account\n",
    "  if not student_email or 'unset' in student_email[0]:\n",
    "    !gcloud auth login\n",
    "    student_email=!gcloud config get-value account\n",
    "  current_log = \"\"\n",
    "  !rm -f ./history.txt\n",
    "  %history -o -f history.txt\n",
    "  with open(\"history.txt\") as file:\n",
    "    current_log = file.read()\n",
    "  try:\n",
    "    if not session_log:\n",
    "      session_log = \"\"\n",
    "  except:\n",
    "    session_log = \"\"\n",
    "\n",
    "  with open(\"errors.txt\") as file:\n",
    "    current_errors = file.read()\n",
    "  # Clear errors\n",
    "  open('errors.txt', 'w').close()\n",
    "  \n",
    "  tmp_log = f\"{current_log}\"\n",
    "  current_log = current_log.replace(session_log, \"\")\n",
    "  session_log = tmp_log\n",
    "  logvalues = {\"exercise_number\": exercise_number, \"student_id\": student_email[0],\n",
    "                \"log\": f\"{current_log}\", \"errors\": f\"{current_errors}\"}\n",
    "  log_data = format_values(logvalues, \"LOG\")\n",
    "\n",
    "  send_form(f\"{log_url}&emailAddress={quote(str(student_email[0]))}\", log_data)\n",
    "        \n",
    "  answers_status = True\n",
    "  for k, v in zip(inputs, outputs):\n",
    "    ans = func(*k)\n",
    "    outans = outfunc(ans)\n",
    "    try:\n",
    "        if isinstance(ans, pd.DataFrame) and isinstance(v, pd.DataFrame):\n",
    "            result = outans.equals(v)\n",
    "        elif (isinstance(ans, np.ndarray) or isinstance(outans, np.ndarray)) and isinstance(v, np.ndarray):\n",
    "            result = np.array_equal(outans, v)\n",
    "        else:\n",
    "            result = outfunc(ans) == v\n",
    "        if not result:\n",
    "          answers_status = False\n",
    "          validate_output = f\"Resposta incorreta. {func.__name__}({k}) deveria ser {v}, mas retornou {ans}\"\n",
    "    except ValueError as ve:\n",
    "        print(ve)\n",
    "        pass\n",
    "        if not result.all():\n",
    "          answers_status = False\n",
    "          validate_output = f\"Resposta incorreta. {func.__name__}({k}) deveria ser {v}, mas retornou {ans}\"\n",
    "\n",
    "  if answers_status:\n",
    "      exercise_score = True\n",
    "      values = {\"exercise_number\": exercise_number, \"student_id\": student_email[0],\n",
    "                \"exercise_points\": 1, \"exercise_score\": exercise_score, \n",
    "                \"id\": f\"{student_email[0]}_{exercise_number}\"}\n",
    "      final_data = format_values(values, \"EXERCISE\")\n",
    "      send_form(f\"{url}&emailAddress={quote(str(student_email[0]))}\", final_data)\n",
    "      return True, \"Parabéns!\"\n",
    "  else:\n",
    "      return False, validate_output\n",
    "\n",
    "# This saves all errors to a file called errors.txt\n",
    "\n",
    "if not hasattr(get_ipython(), '_showtraceback_orig'):\n",
    "    my_stderr = sys.stderr = open('errors.txt', 'w')  # redirect stderr to file\n",
    "    get_ipython()._showtraceback_orig = get_ipython()._showtraceback\n",
    "\n",
    "    def _showtraceback(self, etype, evalue, stb):\n",
    "        my_stderr.write(datetime.now().strftime('\\n' + \"%m/%d/%Y, %H:%M:%S\") + '\\n')\n",
    "        my_stderr.write(self.InteractiveTB.stb2text(stb) + '\\n')\n",
    "        my_stderr.flush()\n",
    "        self._showtraceback_orig(etype, evalue, stb)\n",
    "\n",
    "    get_ipython()._showtraceback = types.MethodType(_showtraceback, get_ipython())\n"
   ]
  },
  {
   "cell_type": "code",
   "execution_count": null,
   "metadata": {},
   "outputs": [],
   "source": [
    "# Faca o import das bibliotecas\n",
    "import pandas as pd\n",
    "import numpy as np"
   ]
  },
  {
   "cell_type": "markdown",
   "metadata": {},
   "source": [
    "### 9.1 Escreva uma função para ler os dados de PIB e população dos datasets disponibilizados e retornar um dataframe com a agregação por Estados e as métricas soma, média, desvio padrão e mediana do PIB de 2017 e da população de todos os Estados brasileiros."
   ]
  },
  {
   "cell_type": "code",
   "execution_count": null,
   "metadata": {},
   "outputs": [],
   "source": [
    "# Faca aqui seus testes do Exercício 9.1\n",
    "path_pib = 'https://github.com/alexlopespereira/enapespcd2021/raw/main/data/originais/pib/pib_municipios.xlsx'\n",
    "path_pop = 'https://github.com/alexlopespereira/enapespcd2021/raw/main/data/originais/populacao/estimativa_dou_2017.xlsx'\n",
    "\n",
    "\n"
   ]
  },
  {
   "cell_type": "code",
   "execution_count": null,
   "metadata": {
    "deletable": false,
    "nbgrader": {
     "cell_type": "code",
     "checksum": "cd286cc9efcb20290a541c7ce1787589",
     "grade": false,
     "grade_id": "cell-c705ab9d11473b9f9",
     "locked": false,
     "schema_version": 3,
     "solution": true,
     "task": false
    }
   },
   "outputs": [],
   "source": [
    "# Faca aqui sua função do Exercício 9.1\n",
    "def aggregate_pib_pop(path_pop, path_pib):\n",
    "    \"\"\"retorne um dataframe com a agregação por Estados e as métricas soma, média, mediana\n",
    "       e o desvio padrão do PIB de 2017 e da população de todos os Estados brasileiros.\n",
    "    \"\"\"\n",
    "    # YOUR CODE HERE\n",
    "    raise NotImplementedError()\n"
   ]
  },
  {
   "cell_type": "code",
   "execution_count": null,
   "metadata": {
    "deletable": false,
    "editable": false,
    "nbgrader": {
     "cell_type": "code",
     "checksum": "5f61163cc04ba2e0d52cbb8997866fd1",
     "grade": true,
     "grade_id": "cell-9ffdsa88d58e9282a",
     "locked": true,
     "points": 1,
     "schema_version": 3,
     "solution": false,
     "task": false
    }
   },
   "outputs": [],
   "source": [
    "# Faca aqui a validacao do Exercicio 9.1\n",
    "path_pib = 'https://github.com/alexlopespereira/enapespcd2021/raw/main/data/originais/pib/pib_municipios.xlsx'\n",
    "path_pop = 'https://github.com/alexlopespereira/enapespcd2021/raw/main/data/originais/populacao/estimativa_dou_2017.xlsx'\n",
    "\n",
    "test_data = {('pop2017', 'sum'): 829619.0,\n",
    " ('pop2017', 'mean'): 37710.0,\n",
    " ('pop2017', 'median'): 17903.5,\n",
    " ('pop2017', 'std'): 79036.0,\n",
    " ('2017', 'sum'): 14271061.0,\n",
    " ('2017', 'mean'): 648684.6,\n",
    " ('2017', 'median'): 229775.0,\n",
    " ('2017', 'std'): 1695166.9}\n",
    "\n",
    "entradas = [[path_pop, path_pib]]\n",
    "saidas = [test_data]\n",
    "validate(aggregate_pib_pop, entradas, lambda x: x.loc['AC'].apply(lambda x: round(x,1)).to_dict(), saidas, \"9.1\")\n"
   ]
  },
  {
   "cell_type": "markdown",
   "metadata": {},
   "source": [
    "### 9.2 Escreva uma função para agregar o dataset do Titanic por classe (pclass) e sexo (sex) e calcular a soma da coluna survived (sobrevivente) e a média e mediana da coluna fare (preço do ticket).\n",
    "#### Dica: Faça a agregação usando um dicionário que mapeia a coluna e a(s) respectiva(s) métrica(s) de agregação solicitada(s) no enunciado.\n"
   ]
  },
  {
   "cell_type": "code",
   "execution_count": null,
   "metadata": {},
   "outputs": [],
   "source": [
    "# Faca aqui seus testes do Exercício 9.2\n",
    "path_titanic = 'https://github.com/alexlopespereira/enapespcd2021/raw/main/data/originais/titanic/titanic.xls'\n",
    "\n"
   ]
  },
  {
   "cell_type": "code",
   "execution_count": null,
   "metadata": {
    "deletable": false,
    "nbgrader": {
     "cell_type": "code",
     "checksum": "d5e3bc08532df9db8e6624a99c964451",
     "grade": false,
     "grade_id": "cell-553em5248eb14bc30",
     "locked": false,
     "schema_version": 3,
     "solution": true,
     "task": false
    }
   },
   "outputs": [],
   "source": [
    "# Faca aqui sua função do Exercício 9.2\n",
    "def agg_titanic(df_titanic):\n",
    "    \"\"\"retorne aagregação do dataframe df_titanic por pclass e sex e calcular a soma \n",
    "       da coluna survived e a média e mediana da coluna fare.\n",
    "    \"\"\"\n",
    "    # YOUR CODE HERE\n",
    "    raise NotImplementedError()\n"
   ]
  },
  {
   "cell_type": "code",
   "execution_count": null,
   "metadata": {
    "deletable": false,
    "editable": false,
    "nbgrader": {
     "cell_type": "code",
     "checksum": "fbd6b847e708e15618d5b59c404ff29a",
     "grade": true,
     "grade_id": "cell-0se2b6cefe06bdc60",
     "locked": true,
     "points": 1,
     "schema_version": 3,
     "solution": false,
     "task": false
    }
   },
   "outputs": [],
   "source": [
    "# Faca aqui a validacao do Exercicio 9.2\n",
    "path_titanic = 'https://github.com/alexlopespereira/enapespcd2021/raw/main/data/originais/titanic/titanic.xls'\n",
    "df_titanic = pd.read_excel(path_titanic)\n",
    "\n",
    "test_data = {('survived', 'sum'): {(1, 'female'): 139,  (1, 'male'): 61,\n",
    "  (2, 'female'): 94,  (2, 'male'): 25,  (3, 'female'): 106,  (3, 'male'): 75},\n",
    "  ('fare', 'mean'): {(1, 'female'): 109.4,  (1, 'male'): 69.9,  (2, 'female'): 23.2,\n",
    "  (2, 'male'): 19.9,  (3, 'female'): 15.3,  (3, 'male'): 12.4}, \n",
    "  ('fare', 'median'): {(1, 'female'): 80.9,  (1, 'male'): 49.5,  \n",
    "  (2, 'female'): 23.0,  (2, 'male'): 13.0,  (3, 'female'): 10.5,  (3, 'male'): 7.9}}\n",
    "\n",
    "\n",
    "entradas = [[df_titanic]]\n",
    "saidas = [test_data]\n",
    "validate(agg_titanic, entradas, lambda x: x.apply(lambda x: round(x, 1)).to_dict(), saidas, \"9.2\")"
   ]
  },
  {
   "cell_type": "markdown",
   "metadata": {},
   "source": [
    "### 9.3 Escreva uma função para realizar o agrupamento do dataset de morbidade por UF e por município aplicando a soma sobre as colunas Valor_total, Internações e Dias_permanência. Em seguida calcule, para todos os municípios nesta agregação, o custo médio diário das internações com a seguite fórmula: \n",
    "#### Dica: Faça a agregação usando um dicionário que mapeia a coluna e a respectiva métrica de agregação solicitada no enunciado.\n",
    "#### Use a seguinte fórmula para calculár o custo diário médio de internação:\n",
    "```python \n",
    "custo_medio_diario_intern = Valor_total/Dias_permanência\n",
    "```"
   ]
  },
  {
   "cell_type": "code",
   "execution_count": null,
   "metadata": {},
   "outputs": [],
   "source": [
    "# Faca aqui seus testes do Exercício 9.3\n",
    "path_morbidade = 'https://github.com/alexlopespereira/enapespcd2021/raw/main/data/originais/morbidade/consolidado/morbidade.csv'\n",
    "path_pop = 'https://github.com/alexlopespereira/enapespcd2021/raw/main/data/originais/populacao/estimativa_dou_2017.xlsx'\n"
   ]
  },
  {
   "cell_type": "code",
   "execution_count": null,
   "metadata": {
    "deletable": false,
    "nbgrader": {
     "cell_type": "code",
     "checksum": "1be5b5e1be181df6a60937aa8f6ea209",
     "grade": false,
     "grade_id": "cell-5b4dc5640fc839be",
     "locked": false,
     "schema_version": 3,
     "solution": true,
     "task": false
    }
   },
   "outputs": [],
   "source": [
    "# Faça aqui sua função do Exercício 9.3\n",
    "def custo_medio_internacao_agregado(df_morbidade_pop):\n",
    "    # YOUR CODE HERE\n",
    "    raise NotImplementedError()"
   ]
  },
  {
   "cell_type": "code",
   "execution_count": null,
   "metadata": {
    "deletable": false,
    "editable": false,
    "nbgrader": {
     "cell_type": "code",
     "checksum": "80880ae8aa76b10d9ccd7f381f85a11f",
     "grade": true,
     "grade_id": "cell-eee2219340bc517c",
     "locked": true,
     "points": 1,
     "schema_version": 3,
     "solution": false,
     "task": false
    }
   },
   "outputs": [],
   "source": [
    "# Faca aqui a validacao do Exercicio 9.3\n",
    "path_morbidade = 'https://github.com/alexlopespereira/enapespcd2021/raw/main/data/originais/morbidade/consolidado/morbidade.csv'\n",
    "path_pop = 'https://github.com/alexlopespereira/enapespcd2021/raw/main/data/originais/populacao/estimativa_dou_2017.xlsx'\n",
    "\n",
    "test_data = {'Valor_total': 1534117.3,\n",
    " 'Internações': 1094.0,\n",
    " 'Dias_permanência': 5291.0,\n",
    " 'custo_medio_diario_intern': 289.9}\n",
    "\n",
    "df_pop = pd.read_excel(path_pop, sheet_name=\"Municipios\", dtype={'cod_munic': str, 'cod_uf': str})\n",
    "df_pop['cod_ibge6'] = df_pop['cod_uf'] + df_pop['cod_munic'].apply(lambda x: x[:-1])\n",
    "df_morbidade = pd.read_csv(path_morbidade, sep=';', decimal=',', dtype={'cod_ibge6': str}, \n",
    "                           na_values=['-', '...'])\n",
    "df_pop_morbidade = pd.merge(df_pop, df_morbidade, on='cod_ibge6') \n",
    "\n",
    "entradas = [[df_pop_morbidade]]\n",
    "saidas = [test_data]\n",
    "validate(custo_medio_internacao_agregado, entradas, lambda x: x.loc['GO','Abadia de Goiás'].apply(lambda x: round(x, 1)).to_dict(), saidas, \"9.3\")"
   ]
  },
  {
   "cell_type": "markdown",
   "metadata": {},
   "source": [
    "### 9.4 Crie uma função python para retornar a mediana da coluna Valor_total de 5 municípios do dataset de Morbidade do Datasus (ao longo do período representado no dataset disponibilizado). Os municípios de interesse são aqueles que obtiverem o maior custo médio diário de internação em todo o brasil, nesse período. \n",
    "#### Esta métrica de custo médio diário de internação foi calculada no exercício 9.3. \n",
    "#### Dica 1: Escreva algumas sentenças de código usando operações do pandas para encontrar quais são esses 5 municípios.\n",
    "#### Dica 2: Depois de encontrar o codigo IBGE desses 5 municípios, faça um filtro no dataframe dos dados de morbidade.\n",
    "#### Dica 3: Calcule as medianas das séries referentes a cada município, utilizando uma operação de groupby."
   ]
  },
  {
   "cell_type": "code",
   "execution_count": null,
   "metadata": {},
   "outputs": [],
   "source": [
    "# Faca aqui seus testes do Exercício 9.4\n",
    "path_morbidade = 'https://github.com/alexlopespereira/enapespcd2021/raw/main/data/originais/morbidade/consolidado/morbidade.csv'\n",
    "path_pop = 'https://github.com/alexlopespereira/enapespcd2021/raw/main/data/originais/populacao/estimativa_dou_2017.xlsx'\n"
   ]
  },
  {
   "cell_type": "code",
   "execution_count": null,
   "metadata": {
    "deletable": false,
    "nbgrader": {
     "cell_type": "code",
     "checksum": "c69f3f8c6bcbc839f00d48951a1f89b2",
     "grade": false,
     "grade_id": "cell-919c16309d90227d",
     "locked": false,
     "schema_version": 3,
     "solution": true,
     "task": false
    }
   },
   "outputs": [],
   "source": [
    "# Faca aqui sua função do Exercício 9.4\n",
    "def median_top5(path_morbidade, path_pop):\n",
    "    # YOUR CODE HERE\n",
    "    raise NotImplementedError()"
   ]
  },
  {
   "cell_type": "code",
   "execution_count": null,
   "metadata": {},
   "outputs": [],
   "source": [
    "# Faca aqui a validacao do Exercicio 9.4\n",
    "path_morbidade = 'https://github.com/alexlopespereira/enapespcd2021/raw/main/data/originais/morbidade/consolidado/morbidade.csv'\n",
    "path_pop = 'https://github.com/alexlopespereira/enapespcd2021/raw/main/data/originais/populacao/estimativa_dou_2017.xlsx'\n",
    "test_data = {'Valor_total': {0: 2579493.47, 1: 167867.62, 2: 147509.47, 3: 30360.03, 4: 15871.31}, \n",
    "              'cod_ibge6': {0: '410400', 1: '330115', 2: '330205', 3: '353715', 4: '355365'}, \n",
    "              'municipio': {0: 'Campina Grande do Sul', 1: 'Cardoso Moreira', 2: 'Italva', 3: 'Pedrinhas Paulista', 4: 'Taquaral'}}\n",
    "\n",
    "\n",
    "entradas = [[path_morbidade, path_pop]]\n",
    "saidas = [test_data]\n",
    "val1, m = validate(median_top5, entradas, lambda x: x.reset_index()[['municipio', 'cod_ibge6', 'Valor_total', ]].to_dict(), saidas, \"9.4\")\n",
    "print(m)"
   ]
  }
 ],
 "metadata": {
  "kernelspec": {
   "display_name": "Python 3",
   "language": "python",
   "name": "python3"
  },
  "language_info": {
   "codemirror_mode": {
    "name": "ipython",
    "version": 3
   },
   "file_extension": ".py",
   "mimetype": "text/x-python",
   "name": "python",
   "nbconvert_exporter": "python",
   "pygments_lexer": "ipython3",
   "version": "3.8.3"
  },
  "name": "_merged",
  "varInspector": {
   "cols": {
    "lenName": 16,
    "lenType": 16,
    "lenVar": 40
   },
   "kernels_config": {
    "python": {
     "delete_cmd_postfix": "",
     "delete_cmd_prefix": "del ",
     "library": "var_list.py",
     "varRefreshCmd": "print(var_dic_list())"
    },
    "r": {
     "delete_cmd_postfix": ") ",
     "delete_cmd_prefix": "rm(",
     "library": "var_list.r",
     "varRefreshCmd": "cat(var_dic_list()) "
    }
   },
   "types_to_exclude": [
    "module",
    "function",
    "builtin_function_or_method",
    "instance",
    "_Feature"
   ],
   "window_display": false
  }
 },
 "nbformat": 4,
 "nbformat_minor": 4
}
