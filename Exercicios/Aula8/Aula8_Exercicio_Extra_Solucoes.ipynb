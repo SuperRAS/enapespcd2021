{
 "cells": [
  {
   "cell_type": "markdown",
   "metadata": {},
   "source": [
    "# Aula 8 - Exercícios - Datetime e Regex"
   ]
  },
  {
   "cell_type": "code",
   "execution_count": null,
   "metadata": {},
   "outputs": [],
   "source": [
    "#@title Init Cell - Execute-me!!!\n",
    "import sys\n",
    "from datetime import datetime\n",
    "import requests\n",
    "import time\n",
    "from requests.utils import quote\n",
    "\n",
    "url = 'https://docs.google.com/forms/d/e/1FAIpQLSeASSC8-w8FmfodZ4lBnuSEAvYuE4vatIBowLIREG1f-2pIpA/formResponse?usp=pp_url&entry.1986154915=mbacd&entry.513694412=2021&entry.1914621244=CienciaDeDados'\n",
    "\n",
    "def format_values(values):\n",
    "    return {\n",
    "        \"entry.1269959472\": values['student_id'],\n",
    "        \"entry.1799867692\": str(values['exercise_number']).replace(\".\", \"_\"),\n",
    "        \"entry.886231469\": values['exercise_score'],\n",
    "        \"entry.1491599254\": values['exercise_extra'],\n",
    "        \"entry.1342537331\": values['id']\n",
    "    }\n",
    "\n",
    "def send_attendance(url, data):\n",
    "    count = 0\n",
    "    while count < 3:\n",
    "        count += 1\n",
    "        try:\n",
    "          r = requests.post(url, data=data)\n",
    "          break\n",
    "        except:\n",
    "          print(\"Error Occured!\")\n",
    "          time.sleep(2)\n",
    "\n",
    "def validate(func, inputs, outfunc, outputs, exercise_number, exercise_extra):\n",
    "  answers_status = True\n",
    "  for k, v in zip(inputs, outputs):\n",
    "    ans = func(*k)\n",
    "    outans = outfunc(ans)\n",
    "    try:\n",
    "        if isinstance(ans, pd.DataFrame) and isinstance(v, pd.DataFrame):\n",
    "            result = outans.equals(v)\n",
    "        elif (isinstance(ans, np.ndarray) or isinstance(outans, np.ndarray)) and isinstance(v, np.ndarray):\n",
    "            result = np.array_equal(outans, v)\n",
    "        else:\n",
    "            result = outfunc(ans) == v\n",
    "        if not result:\n",
    "          answers_status = False\n",
    "          print(f\"Resposta incorreta. {func.__name__}({k}) deveria ser {v}, mas retornou {ans}\")\n",
    "    except ValueError as ve:\n",
    "        print(ve)\n",
    "        pass\n",
    "        if not result.all():\n",
    "          answers_status = False\n",
    "          print(f\"Resposta incorreta. {func.__name__}({k}) deveria ser {v}, mas retornou {ans}\")\n",
    "\n",
    "  if answers_status:\n",
    "      student_email=!gcloud config get-value account\n",
    "      if not student_email or 'unset' in student_email[0]:\n",
    "        !gcloud auth login\n",
    "        student_email=!gcloud config get-value account\n",
    "      exercise_score = True\n",
    "      values = {\"exercise_number\": exercise_number, \"student_id\": student_email[0],\n",
    "                \"exercise_points\": 1, \"exercise_score\": exercise_score, \n",
    "                \"exercise_extra\": exercise_extra,\n",
    "                \"id\": f\"{student_email[0]}_{exercise_number}\"}\n",
    "      final_data = format_values(values)\n",
    "      send_attendance(f\"{url}&emailAddress={quote(str(student_email[0]))}\", final_data)\n",
    "      return \"Parabéns!\"\n",
    "  else:\n",
    "      return False\n"
   ]
  },
  {
   "cell_type": "code",
   "execution_count": null,
   "metadata": {},
   "outputs": [],
   "source": [
    "# Importe a biblioteca pandas\n",
    "import pandas as pd\n",
    "import numpy as np\n",
    "import re\n",
    "import pandas as pd\n",
    "import datetime\n",
    "from datetime import datetime, date"
   ]
  },
  {
   "cell_type": "markdown",
   "metadata": {},
   "source": [
    "### 8.5 Escreva uma função python para extrair o número de telefone a partir de várias possibilidades de valores de entrada. Retorne uma lista com apenas os números do telefone (em formato de string) no resultado da função, e não retorne aqueles telefones cujo formato seja inválido (faltando DDD, faltando caractere).\n",
    "#### Considere apenas os valores apresentados na lista a seguir:\n",
    "```exemplos=[\"(16) 91231-6165\", \"(16) 3231-6165\", \"16 91231-6165\", \"16 3231-6164\", \"3231-6165\", \"91231-616\"]```\n",
    "#### Resultado esperado\n",
    "```['(16) 91231-6165', '(16) 3231-6165', '16 91231-6165', '16 3231-6164']```"
   ]
  },
  {
   "cell_type": "code",
   "execution_count": null,
   "metadata": {
    "nbgrader": {
     "grade": false,
     "grade_id": "cell-553em5248eb14bc30",
     "locked": false,
     "schema_version": 3,
     "solution": true,
     "task": false
    }
   },
   "outputs": [],
   "source": [
    "def extrair_telefone(lista_entradas):\n",
    "    ### BEGIN SOLUTION\n",
    "    resultados = []\n",
    "    for v in lista_entradas:\n",
    "        current = re.findall(\"\\(?\\d{2}\\)?\\s?\\d{4,5}\\-\\d{4}\", v)\n",
    "        if len(current) > 0:\n",
    "            resultados.append(current[0])\n",
    "    return resultados    \n",
    "    ### END SOLUTION\n",
    "    "
   ]
  },
  {
   "cell_type": "code",
   "execution_count": null,
   "metadata": {},
   "outputs": [],
   "source": [
    "# Faça seus testes aqui\n",
    "exemplos=[\"(16) 91231-6165\", \"(16) 3231-6165\", \"16 91231-6165\", \"16 3231-6164\", \"3231-6165\", \"91231-616\"]"
   ]
  },
  {
   "cell_type": "code",
   "execution_count": null,
   "metadata": {},
   "outputs": [],
   "source": [
    "# Validação\n",
    "exemplos=[\"(16) 91231-6165\", \"(16) 3231-6165\", \"16 91231-6165\", \"16 3231-6164\", \"3231-6165\", \"91231-616\"]\n",
    "entradas = [[exemplos]]\n",
    "saidas = [['(16) 91231-6165', '(16) 3231-6165', '16 91231-6165', '16 3231-6164']]\n",
    "validate(extrair_telefone, entradas, lambda x: x, saidas, \"8.5\", True)"
   ]
  },
  {
   "cell_type": "markdown",
   "metadata": {},
   "source": [
    "### 8.6 Crie uma função para construir um dataframe contendo o último dia útil de todos os meses de um ano passado como argumento da função.\n",
    "#### Para a entrada: 2021\n",
    "#### Resultado esperado:\n",
    "```      \n",
    "         Date\n",
    "0  2021-01-29\n",
    "1  2021-02-26\n",
    "2  2021-03-31\n",
    "3  2021-04-30\n",
    "4  2021-05-31\n",
    "5  2021-06-30\n",
    "6  2021-07-30\n",
    "7  2021-08-31\n",
    "8  2021-09-30\n",
    "9  2021-10-29\n",
    "10 2021-11-30\n",
    "11 2021-12-31```\n",
    "#### Dica: use a função date_range e ajuste o argumento ```freq``` apropriadamente."
   ]
  },
  {
   "cell_type": "code",
   "execution_count": null,
   "metadata": {
    "nbgrader": {
     "grade": false,
     "grade_id": "cell-7d86e31f8171aca5",
     "locked": false,
     "schema_version": 3,
     "solution": true,
     "task": false
    }
   },
   "outputs": [],
   "source": [
    "def business_day(year):\n",
    "    ### BEGIN SOLUTION\n",
    "    s = pd.date_range(f'{year}-01-01', periods=12, freq='BM')\n",
    "    df = pd.DataFrame(s, columns=['Date'])\n",
    "    return df\n",
    "    ### END SOLUTION\n",
    "    \n"
   ]
  },
  {
   "cell_type": "code",
   "execution_count": null,
   "metadata": {},
   "outputs": [],
   "source": [
    "# Faça seus testes aqui\n",
    "\n"
   ]
  },
  {
   "cell_type": "code",
   "execution_count": null,
   "metadata": {},
   "outputs": [],
   "source": [
    "# Validação\n",
    "df_result = pd.DataFrame({'Date': {0: pd.Timestamp('2021-01-29 00:00:00'),\n",
    "  1: pd.Timestamp('2021-02-26'),\n",
    "  2: pd.Timestamp('2021-03-31'),\n",
    "  3: pd.Timestamp('2021-04-30'),\n",
    "  4: pd.Timestamp('2021-05-31'),\n",
    "  5: pd.Timestamp('2021-06-30'),\n",
    "  6: pd.Timestamp('2021-07-30'),\n",
    "  7: pd.Timestamp('2021-08-31'),\n",
    "  8: pd.Timestamp('2021-09-30'),\n",
    "  9: pd.Timestamp('2021-10-29'),\n",
    "  10: pd.Timestamp('2021-11-30'),\n",
    "  11: pd.Timestamp('2021-12-31')}})\n",
    "\n",
    "entradas = [[2021]]\n",
    "saidas = [df_result]\n",
    "validate(business_day, entradas, lambda x: x, saidas, \"8.6\", True)"
   ]
  }
 ],
 "metadata": {
  "celltoolbar": "Create Assignment",
  "kernelspec": {
   "display_name": "Python 3",
   "language": "python",
   "name": "python3"
  },
  "language_info": {
   "codemirror_mode": {
    "name": "ipython",
    "version": 3
   },
   "file_extension": ".py",
   "mimetype": "text/x-python",
   "name": "python",
   "nbconvert_exporter": "python",
   "pygments_lexer": "ipython3",
   "version": "3.8.3"
  },
  "name": "_merged",
  "varInspector": {
   "cols": {
    "lenName": 16,
    "lenType": 16,
    "lenVar": 40
   },
   "kernels_config": {
    "python": {
     "delete_cmd_postfix": "",
     "delete_cmd_prefix": "del ",
     "library": "var_list.py",
     "varRefreshCmd": "print(var_dic_list())"
    },
    "r": {
     "delete_cmd_postfix": ") ",
     "delete_cmd_prefix": "rm(",
     "library": "var_list.r",
     "varRefreshCmd": "cat(var_dic_list()) "
    }
   },
   "types_to_exclude": [
    "module",
    "function",
    "builtin_function_or_method",
    "instance",
    "_Feature"
   ],
   "window_display": false
  }
 },
 "nbformat": 4,
 "nbformat_minor": 4
}
