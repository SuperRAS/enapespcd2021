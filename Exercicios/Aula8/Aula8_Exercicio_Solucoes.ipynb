{
 "cells": [
  {
   "cell_type": "markdown",
   "metadata": {},
   "source": [
    "# Aula 8 - Exercícios - Datetime e Regex"
   ]
  },
  {
   "cell_type": "code",
   "execution_count": null,
   "metadata": {},
   "outputs": [],
   "source": [
    "#@title Init Cell - Execute-me!!!\n",
    "import sys\n",
    "from datetime import datetime\n",
    "import requests\n",
    "import time\n",
    "from requests.utils import quote\n",
    "\n",
    "url = 'https://docs.google.com/forms/d/e/1FAIpQLSeASSC8-w8FmfodZ4lBnuSEAvYuE4vatIBowLIREG1f-2pIpA/formResponse?usp=pp_url&entry.1986154915=mbacd&entry.513694412=2021&entry.1914621244=CienciaDeDados'\n",
    "\n",
    "def format_values(values):\n",
    "    return {\n",
    "        \"entry.1269959472\": values['student_id'],\n",
    "        \"entry.1799867692\": str(values['exercise_number']).replace(\".\", \"_\"),\n",
    "        \"entry.886231469\": values['exercise_score'],\n",
    "        \"entry.1491599254\": values['exercise_extra'],\n",
    "        \"entry.1342537331\": values['id']\n",
    "    }\n",
    "\n",
    "def send_attendance(url, data):\n",
    "    count = 0\n",
    "    while count < 3:\n",
    "        count += 1\n",
    "        try:\n",
    "          r = requests.post(url, data=data)\n",
    "          break\n",
    "        except:\n",
    "          print(\"Error Occured!\")\n",
    "          time.sleep(2)\n",
    "\n",
    "def validate(func, inputs, outfunc, outputs, exercise_number, exercise_extra):\n",
    "  answers_status = True\n",
    "  for k, v in zip(inputs, outputs):\n",
    "    ans = func(*k)\n",
    "    outans = outfunc(ans)\n",
    "    try:\n",
    "        if isinstance(ans, pd.DataFrame) and isinstance(v, pd.DataFrame):\n",
    "            result = outans.equals(v)\n",
    "        elif (isinstance(ans, np.ndarray) or isinstance(outans, np.ndarray)) and isinstance(v, np.ndarray):\n",
    "            result = np.array_equal(outans, v)\n",
    "        else:\n",
    "            result = outfunc(ans) == v\n",
    "        if not result:\n",
    "          answers_status = False\n",
    "          print(f\"Resposta incorreta. {func.__name__}({k}) deveria ser {v}, mas retornou {ans}\")\n",
    "    except ValueError as ve:\n",
    "        print(ve)\n",
    "        pass\n",
    "        if not result.all():\n",
    "          answers_status = False\n",
    "          print(f\"Resposta incorreta. {func.__name__}({k}) deveria ser {v}, mas retornou {ans}\")\n",
    "\n",
    "  if answers_status:\n",
    "      student_email=!gcloud config get-value account\n",
    "      if not student_email or 'unset' in student_email[0]:\n",
    "        !gcloud auth login\n",
    "        student_email=!gcloud config get-value account\n",
    "      exercise_score = True\n",
    "      values = {\"exercise_number\": exercise_number, \"student_id\": student_email[0],\n",
    "                \"exercise_points\": 1, \"exercise_score\": exercise_score, \n",
    "                \"exercise_extra\": exercise_extra,\n",
    "                \"id\": f\"{student_email[0]}_{exercise_number}\"}\n",
    "      final_data = format_values(values)\n",
    "      send_attendance(f\"{url}&emailAddress={quote(str(student_email[0]))}\", final_data)\n",
    "      return \"Parabéns!\"\n",
    "  else:\n",
    "      return False\n"
   ]
  },
  {
   "cell_type": "code",
   "execution_count": null,
   "metadata": {},
   "outputs": [],
   "source": [
    "# Importe a biblioteca pandas\n",
    "import pandas as pd\n",
    "import numpy as np\n",
    "import re\n",
    "import pandas as pd\n",
    "import datetime\n",
    "from datetime import datetime, date"
   ]
  },
  {
   "cell_type": "markdown",
   "metadata": {},
   "source": [
    "### 8.1 Escreva uma função para encontrar numa string todos os grupos de letras em que uma letra a é seguida de 3 letras b. \n"
   ]
  },
  {
   "cell_type": "code",
   "execution_count": null,
   "metadata": {
    "nbgrader": {
     "grade": false,
     "grade_id": "cell-c705ab9d11473b9f9",
     "locked": false,
     "schema_version": 3,
     "solution": true,
     "task": false
    }
   },
   "outputs": [],
   "source": [
    "def a3b(s):\n",
    "    ### BEGIN SOLUTION\n",
    "    return re.findall('ab{3}',  s)\n",
    "    ### END SOLUTION"
   ]
  },
  {
   "cell_type": "code",
   "execution_count": null,
   "metadata": {},
   "outputs": [],
   "source": [
    "## Faça seus testes aqui\n"
   ]
  },
  {
   "cell_type": "code",
   "execution_count": null,
   "metadata": {
    "nbgrader": {
     "grade": true,
     "grade_id": "cell-9ffdsa88d58e9o82a",
     "locked": true,
     "points": 1,
     "schema_version": 3,
     "solution": false,
     "task": false
    }
   },
   "outputs": [],
   "source": [
    "# Validação\n",
    "entradas = [['abbb asde ababbaaabbbabbb']]\n",
    "saidas = [['abbb', 'abbb', 'abbb']]\n",
    "\n",
    "validate(a3b, entradas, lambda x: x, saidas, \"8.1\", False)"
   ]
  },
  {
   "cell_type": "markdown",
   "metadata": {},
   "source": [
    "### 8.2 Escreva uma função para retornar os números presentes ao final de uma string. \n",
    "#### Retorne uma lista contendo o número no formato string ou uma lista vazia se os ultimos caracteres não forem dígitos.\n"
   ]
  },
  {
   "cell_type": "code",
   "execution_count": null,
   "metadata": {
    "nbgrader": {
     "grade": false,
     "grade_id": "cell-553qe5248eb14bc30",
     "locked": false,
     "schema_version": 3,
     "solution": true,
     "task": false
    }
   },
   "outputs": [],
   "source": [
    "def get_final_numbers(s):\n",
    "    \"\"\"retorne uma lista contendo o número no formato string ou \n",
    "       uma lista vazia se os ultimos caracteres não forem dígitos.\n",
    "    \"\"\"\n",
    "    ### BEGIN SOLUTION\n",
    "    pat = '[0-9]+$'\n",
    "    return re.findall(pat, s)\n",
    "    ### END SOLUTION"
   ]
  },
  {
   "cell_type": "code",
   "execution_count": null,
   "metadata": {},
   "outputs": [],
   "source": [
    "## Faça seus testes aqui\n"
   ]
  },
  {
   "cell_type": "code",
   "execution_count": null,
   "metadata": {
    "nbgrader": {
     "grade": true,
     "grade_id": "cell-0e2bh6cefe06bdc60",
     "locked": true,
     "points": 1,
     "schema_version": 3,
     "solution": false,
     "task": false
    }
   },
   "outputs": [],
   "source": [
    "# Validação\n",
    "entradas = [['33a307a'], ['33a307']]\n",
    "saidas = [[], ['307']]\n",
    "validate(get_final_numbers, entradas, lambda x: x, saidas, \"8.2\", False)"
   ]
  },
  {
   "cell_type": "markdown",
   "metadata": {},
   "source": [
    "### 8.3 Escreva uma função python para retornar um objeto datetime representando o dia seguinte e o dia anterior de uma data passada como argumento no formato datetime. Retorne uma tupla contendo respectivamente o dia anterior e o dia seguinte.\n",
    "#### Exemplo: para a entrada ```\"datetime(2021, 05, 11)\"```\n",
    "#### Resultado esperado: ```(datetime(2021, 05, 10), datetime(2021, 05, 12))```"
   ]
  },
  {
   "cell_type": "code",
   "execution_count": null,
   "metadata": {
    "nbgrader": {
     "grade": false,
     "grade_id": "cell-822f52c7ecd504a6",
     "locked": false,
     "schema_version": 3,
     "solution": true,
     "task": false
    }
   },
   "outputs": [],
   "source": [
    "def yesterday_tomorrow(inputdate):\n",
    "    \"\"\"Retorne uma tupla contendo respectivamente o dia anterior e \n",
    "    o dia seguinte ao dia do objeto datetime passado como argumento.\"\"\"\n",
    "    ### BEGIN SOLUTION\n",
    "    tomorrow = inputdate + pd.Timedelta(days=1)\n",
    "    yesterday = inputdate - pd.Timedelta(days=1)\n",
    "    return (yesterday, tomorrow)\n",
    "    ### END SOLUTION\n",
    "    "
   ]
  },
  {
   "cell_type": "code",
   "execution_count": null,
   "metadata": {},
   "outputs": [],
   "source": [
    "# faça seus testes aqui\n"
   ]
  },
  {
   "cell_type": "code",
   "execution_count": null,
   "metadata": {},
   "outputs": [],
   "source": [
    "# Validação\n",
    "entradas = [[datetime(2021, 5, 11)]]\n",
    "saidas = [(datetime(2021, 5, 10), datetime(2021, 5, 12))]\n",
    "validate(yesterday_tomorrow, entradas, lambda x: x, saidas, \"8.3\", False)"
   ]
  },
  {
   "cell_type": "markdown",
   "metadata": {},
   "source": [
    "### 8.4 Crie uma coluna para o dataframe a seguir contendo o número do mês correspondente a data. Perceba que  o dataframe de entrada tem strings representando datas no seu índice. A coluna com o mês no dataframe de resultado deve ser chamar ```mes```.\n",
    "#### Entrada:\n",
    "|            |     0 |\n",
    "|:-----------|------:|\n",
    "| 2011-09-02 | -0.96 |\n",
    "| 2012-08-04 | -0.05 |\n",
    "| 2013-09-03 | -0.42 |\n",
    "| 2014-08-04 | -1.26 |\n",
    "| 2015-03-03 |  1.96 |\n",
    "| 2016-08-04 | -0.06 |\n",
    "| 2017-04-03 |  0.05 |\n",
    "\n",
    "#### Resultado esperado\n",
    "|            |     0 |   mes |\n",
    "|:-----------|------:|------:|\n",
    "| 2011-09-02 | -0.96 |     9 |\n",
    "| 2012-08-04 | -0.05 |     8 |\n",
    "| 2013-09-03 | -0.42 |     9 |\n",
    "| 2014-08-04 | -1.26 |     8 |\n",
    "| 2015-03-03 |  1.96 |     3 |\n",
    "| 2016-08-04 | -0.06 |     8 |\n",
    "| 2017-04-03 |  0.05 |     4 |\n"
   ]
  },
  {
   "cell_type": "code",
   "execution_count": null,
   "metadata": {
    "nbgrader": {
     "grade": false,
     "grade_id": "cell-7c0b13818bd791ba",
     "locked": false,
     "schema_version": 3,
     "solution": true,
     "task": false
    }
   },
   "outputs": [],
   "source": [
    "def month_column_from_index(df):\n",
    "    ### BEGIN SOLUTION\n",
    "    df['mes'] = pd.DatetimeIndex(df.index).month\n",
    "    return df\n",
    "    ### END SOLUTION\n",
    "    \n",
    "    "
   ]
  },
  {
   "cell_type": "code",
   "execution_count": null,
   "metadata": {},
   "outputs": [],
   "source": [
    "# Faça seus testes aqui\n",
    "df = pd.DataFrame({0: {'2011-09-02': -0.96,\n",
    "  '2012-08-04': -0.05,  '2013-09-03': -0.42,\n",
    "  '2014-08-04': -1.26,  '2015-03-03': 1.96,\n",
    "  '2016-08-04': -0.06,  '2017-04-03': 0.05}})\n",
    "\n",
    "\n"
   ]
  },
  {
   "cell_type": "code",
   "execution_count": null,
   "metadata": {},
   "outputs": [],
   "source": [
    "# Validação\n",
    "df = pd.DataFrame({0: {'2011-09-02': -0.96,\n",
    "  '2012-08-04': -0.05,  '2013-09-03': -0.42,\n",
    "  '2014-08-04': -1.26,  '2015-03-03': 1.96,\n",
    "  '2016-08-04': -0.06,  '2017-04-03': 0.05}})\n",
    "\n",
    "df_result = pd.DataFrame({0: {'2011-09-02': -0.96,  '2012-08-04': -0.05,\n",
    "  '2013-09-03': -0.42,  '2014-08-04': -1.26,  '2015-03-03': 1.96,  '2016-08-04': -0.06,\n",
    "  '2017-04-03': 0.05}, 'mes': {'2011-09-02': 9,  '2012-08-04': 8,  '2013-09-03': 9,\n",
    "  '2014-08-04': 8,  '2015-03-03': 3,  '2016-08-04': 8,  '2017-04-03': 4}})\n",
    "\n",
    "entradas = [[df]]\n",
    "saidas = [df_result]\n",
    "validate(month_column_from_index, entradas, lambda x: x, saidas, \"8.4\", False)"
   ]
  }
 ],
 "metadata": {
  "celltoolbar": "Create Assignment",
  "kernelspec": {
   "display_name": "Python 3",
   "language": "python",
   "name": "python3"
  },
  "language_info": {
   "codemirror_mode": {
    "name": "ipython",
    "version": 3
   },
   "file_extension": ".py",
   "mimetype": "text/x-python",
   "name": "python",
   "nbconvert_exporter": "python",
   "pygments_lexer": "ipython3",
   "version": "3.8.3"
  },
  "name": "_merged",
  "varInspector": {
   "cols": {
    "lenName": 16,
    "lenType": 16,
    "lenVar": 40
   },
   "kernels_config": {
    "python": {
     "delete_cmd_postfix": "",
     "delete_cmd_prefix": "del ",
     "library": "var_list.py",
     "varRefreshCmd": "print(var_dic_list())"
    },
    "r": {
     "delete_cmd_postfix": ") ",
     "delete_cmd_prefix": "rm(",
     "library": "var_list.r",
     "varRefreshCmd": "cat(var_dic_list()) "
    }
   },
   "types_to_exclude": [
    "module",
    "function",
    "builtin_function_or_method",
    "instance",
    "_Feature"
   ],
   "window_display": false
  }
 },
 "nbformat": 4,
 "nbformat_minor": 4
}
