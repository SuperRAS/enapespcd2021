{
 "cells": [
  {
   "cell_type": "markdown",
   "metadata": {},
   "source": [
    "# Aula 9 - Exercício Extra - Agregação com Pandas"
   ]
  },
  {
   "cell_type": "code",
   "execution_count": null,
   "metadata": {},
   "outputs": [],
   "source": [
    "#@title Init Cell - Execute-me!!!\n",
    "import sys\n",
    "from datetime import datetime\n",
    "import requests\n",
    "import time\n",
    "from requests.utils import quote\n",
    "\n",
    "url =     'https://docs.google.com/forms/d/e/1FAIpQLSeASSC8-w8FmfodZ4lBnuSEAvYuE4vatIBowLIREG1f-2pIpA/formResponse?usp=pp_url&entry.1986154915=mbacd&entry.513694412=2021&entry.1914621244=CienciaDeDados'\n",
    "log_url = 'https://docs.google.com/forms/d/e/1FAIpQLSfRtpAVNRGKDmTxh9FhJKucyNMGeQ8Es_JRyG_HcUUVmM_zQg/formResponse?usp=pp_url&entry.1956860070=mbacd&entry.205464053=2021&entry.1885440499=CienciaDeDados'\n",
    "\n",
    "def format_values(values, data_type=\"EXERCISE\"):\n",
    "    result = {}\n",
    "    if data_type == \"EXERCISE\":\n",
    "        return {\n",
    "        \"entry.1269959472\": values['student_id'],\n",
    "        \"entry.1799867692\": str(values['exercise_number']).replace(\".\", \"_\"),\n",
    "        \"entry.886231469\": values['exercise_score'],\n",
    "        \"entry.1342537331\": values['id']\n",
    "        }\n",
    "    elif data_type == \"LOG\":\n",
    "        return {\n",
    "        \"entry.39852643\": values['student_id'],\n",
    "        \"entry.1437170782\": str(values['exercise_number']).replace(\".\", \"_\"),\n",
    "        \"entry.304785533\": values['log']\n",
    "        }\n",
    "    elif data_type == \"ERROR\":\n",
    "        return None\n",
    "    else:\n",
    "        return None\n",
    "    \n",
    "\n",
    "def send_form(url, data):\n",
    "    count = 0\n",
    "    while count < 3:\n",
    "        count += 1\n",
    "        try:\n",
    "          r = requests.post(url, data=data)\n",
    "          break\n",
    "        except:\n",
    "          print(\"Error Occured!\")\n",
    "          time.sleep(2)\n",
    "\n",
    "            \n",
    "def validate(func, inputs, outfunc, outputs, exercise_number):\n",
    "  global session_log\n",
    "  student_email=!gcloud config get-value account\n",
    "  if not student_email or 'unset' in student_email[0]:\n",
    "    !gcloud auth login\n",
    "    student_email=!gcloud config get-value account\n",
    "  current_log = \"\"\n",
    "  !rm ./history.txt\n",
    "  %history -o -f history.txt\n",
    "  with open(\"history.txt\") as file:\n",
    "    current_log = file.read()\n",
    "  try:\n",
    "    if not session_log:\n",
    "      session_log = \"\"\n",
    "  except:\n",
    "    session_log = \"\"\n",
    "\n",
    "  tmp_log = f\"{current_log}\"\n",
    "  current_log = current_log.replace(session_log, \"\")\n",
    "  session_log = tmp_log\n",
    "  logvalues = {\"exercise_number\": exercise_number, \"student_id\": student_email[0],\n",
    "                \"log\": f\"{current_log}\"}\n",
    "  log_data = format_values(logvalues, \"LOG\")\n",
    "  send_form(f\"{log_url}&emailAddress={quote(str(student_email[0]))}\", log_data)\n",
    "        \n",
    "  answers_status = True\n",
    "  for k, v in zip(inputs, outputs):\n",
    "    ans = func(*k)\n",
    "    outans = outfunc(ans)\n",
    "    try:\n",
    "        if isinstance(ans, pd.DataFrame) and isinstance(v, pd.DataFrame):\n",
    "            result = outans.equals(v)\n",
    "        elif (isinstance(ans, np.ndarray) or isinstance(outans, np.ndarray)) and isinstance(v, np.ndarray):\n",
    "            result = np.array_equal(outans, v)\n",
    "        else:\n",
    "            result = outfunc(ans) == v\n",
    "        if not result:\n",
    "          answers_status = False\n",
    "          print(f\"Resposta incorreta. {func.__name__}({k}) deveria ser {v}, mas retornou {ans}\")\n",
    "    except ValueError as ve:\n",
    "        print(ve)\n",
    "        pass\n",
    "        if not result.all():\n",
    "          answers_status = False\n",
    "          print(f\"Resposta incorreta. {func.__name__}({k}) deveria ser {v}, mas retornou {ans}\")\n",
    "\n",
    "  if answers_status:\n",
    "      exercise_score = True\n",
    "      values = {\"exercise_number\": exercise_number, \"student_id\": student_email[0],\n",
    "                \"exercise_points\": 1, \"exercise_score\": exercise_score, \n",
    "                \"id\": f\"{student_email[0]}_{exercise_number}\"}\n",
    "      final_data = format_values(values, \"EXERCISE\")\n",
    "      send_form(f\"{url}&emailAddress={quote(str(student_email[0]))}\", final_data)\n",
    "      return \"Parabéns!\"\n",
    "  else:\n",
    "      return False\n"
   ]
  },
  {
   "cell_type": "code",
   "execution_count": null,
   "metadata": {},
   "outputs": [],
   "source": [
    "# Importe a biblioteca pandas\n",
    "import pandas as pd\n",
    "import numpy as np"
   ]
  },
  {
   "cell_type": "markdown",
   "metadata": {},
   "source": [
    "### 9.5 Escreva uma função para retornar um dataframe com os nomes das colunas, o total e a porcentagem de valores NA (de cada coluna) num dataframe passado como argumento para esta função.\n",
    "#### Arredonde (com o método round) o resultado para duas casas decimais (o assert vai testar com 2 casas decimais).\n",
    "#### Dica 1: Use a função concat para concatenar duas séries. Especifique axis=1 para concatenar por colunas. Se quiser dar nome as colunas depois de concatenar, utilize o argumento keys=['Total','Porcentagem']\n",
    "#### Dica 2: Uma das séries deve conter o total de valores NA, e a outra série a porcentagem de valores NA. Depois disso concatena-as usando a função concat."
   ]
  },
  {
   "cell_type": "code",
   "execution_count": null,
   "metadata": {},
   "outputs": [],
   "source": [
    "# Faca aqui seus testes do Exercício 9.5\n",
    "path_titanic = 'https://github.com/alexlopespereira/enapespcd2021/raw/main/data/originais/titanic/titanic.xls'\n",
    "\n"
   ]
  },
  {
   "cell_type": "code",
   "execution_count": null,
   "metadata": {
    "deletable": false,
    "nbgrader": {
     "cell_type": "code",
     "checksum": "7a07ff3aaadc43e0b016ebf7d2f5ae07",
     "grade": false,
     "grade_id": "cell-c705ab9d11473b9f9",
     "locked": false,
     "schema_version": 3,
     "solution": true,
     "task": false
    }
   },
   "outputs": [],
   "source": [
    "# Faca aqui sua função do Exercício 9.5\n",
    "def missing_percentage(df):\n",
    "    \"\"\"Retorna um dataframe com os nomes das colunas, o total e a porcentagem de valores\n",
    "       NA em cada coluna do dataframe passado como argumento.\n",
    "    \"\"\"\n",
    "    # YOUR CODE HERE\n",
    "    raise NotImplementedError()"
   ]
  },
  {
   "cell_type": "code",
   "execution_count": null,
   "metadata": {
    "deletable": false,
    "editable": false,
    "nbgrader": {
     "cell_type": "code",
     "checksum": "790dc03cdc3a21f12341cb274e823bcd",
     "grade": true,
     "grade_id": "cell-9ffdsa88d58e9282a",
     "locked": true,
     "points": 1,
     "schema_version": 3,
     "solution": false,
     "task": false
    }
   },
   "outputs": [],
   "source": [
    "# Faca aqui a validacao do Exercício 9.5\n",
    "path_titanic = 'https://github.com/alexlopespereira/enapespcd2021/raw/main/data/originais/titanic/titanic.xls'\n",
    "df_titanic = pd.read_excel(path_titanic)\n",
    "\n",
    "test_data = {'Total': {'body': 1188,  'cabin': 1014,  'boat': 823,  'home.dest': 564,\n",
    "                       'age': 263,  'embarked': 2,  'fare': 1,  'ticket': 0,  'parch': 0,  \n",
    "                       'sibsp': 0,  'sex': 0,  'name': 0,  'survived': 0,  'pclass': 0},\n",
    "             'Porcentagem': {'body': 90.76,  'cabin': 77.46,  'boat': 62.87,\n",
    "                            'home.dest': 43.09,  'age': 20.09,  'embarked': 0.15, \n",
    "                            'fare': 0.08,  'ticket': 0.0,  'parch': 0.0,  'sibsp': 0.0,\n",
    "                            'sex': 0.0,  'name': 0.0,  'survived': 0.0,  'pclass': 0.0}}\n",
    "\n",
    "\n",
    "\n",
    "entradas = [[df_titanic]]\n",
    "saidas = [test_data]\n",
    "validate(missing_percentage, entradas, lambda x: x.to_dict(), saidas, \"9.5\")"
   ]
  },
  {
   "cell_type": "markdown",
   "metadata": {},
   "source": [
    "### 9.6 Escreva uma função para colocar num mesmo dataframe os dados de PIB percapita e índice de gini dos municípios brasieiros. \n",
    "#### Retorne os top 10 registros com maiores PIB percapita com as seguintes colunas 'pib_percapita', 'cod_ibge6', '1991', '2000' e '2010'.\n",
    "\n",
    "#### Sugestão: Responda, baseado em dados desses dois dadaframes, se um PIB percapita significativamente maior, tem ajudado a melhorar o índice de Gini nesses municípios. Comente com o professor e colegas casos concretos ou estatísticas extraídas dos dois dataframes que demonstram seu argumento.\n",
    "\n",
    "#### Dica 2: Ao ler o arquivo CSV do índice de gini, se preciso, use encoding='utf8' como parâmetro do método read_csv\n"
   ]
  },
  {
   "cell_type": "markdown",
   "metadata": {},
   "source": [
    "### Cole abaixo as suas soluções dos exercícios 7.1 e 7.2. Elas serão úteis na resolução deste exercício."
   ]
  },
  {
   "cell_type": "code",
   "execution_count": null,
   "metadata": {
    "deletable": false,
    "nbgrader": {
     "cell_type": "code",
     "checksum": "0e0b6990c25ec7ef159ab418c9958dfc",
     "grade": false,
     "grade_id": "cell-7c93b643f0989243",
     "locked": false,
     "schema_version": 3,
     "solution": true,
     "task": false
    }
   },
   "outputs": [],
   "source": [
    "def merge_pop_pib(path_pop, path_pib):\n",
    "    \"\"\"retorne um dataframe resultante do merge dos dados do pib e da população\n",
    "    \"\"\"\n",
    "    # YOUR CODE HERE\n",
    "    raise NotImplementedError()\n",
    "    \n",
    "def pib_percapita(pib_pop):\n",
    "    \"\"\"retorne um dataframe contendo o PIB percapita dos municípios.\n",
    "    \"\"\"\n",
    "    # YOUR CODE HERE\n",
    "    raise NotImplementedError()\n"
   ]
  },
  {
   "cell_type": "code",
   "execution_count": null,
   "metadata": {},
   "outputs": [],
   "source": [
    "# Faca aqui seus testes do Exercício 9.6\n",
    "path_pib = 'https://github.com/alexlopespereira/enapespcd2021/raw/main/data/originais/pib/pib_municipios.xlsx'\n",
    "path_gini = 'https://github.com/alexlopespereira/enapespcd2021/raw/main/data/originais/gini/ginibr.csv'\n",
    "path_pop= 'https://github.com/alexlopespereira/enapespcd2021/raw/main/data/originais/populacao/estimativa_dou_2017.xlsx'\n"
   ]
  },
  {
   "cell_type": "code",
   "execution_count": null,
   "metadata": {
    "deletable": false,
    "nbgrader": {
     "cell_type": "code",
     "checksum": "6b1b90ced82faeec08cb08fd50a22144",
     "grade": false,
     "grade_id": "cell-553em5248eb14bc30",
     "locked": false,
     "schema_version": 3,
     "solution": true,
     "task": false
    }
   },
   "outputs": [],
   "source": [
    "# Faca aqui sua função do Exercício 9.6\n",
    "def top10_municipios(path_pib, path_gini, path_pop):\n",
    "    \"\"\"retorne um dataframe contendo os 10 municipios com maiores PIB percapita. O dataframe deve conter também \n",
    "    o valor do índice de gini (1991, 2000 e 2010) e o código ibge do respectivo município.\n",
    "    \"\"\"\n",
    "    # YOUR CODE HERE\n",
    "    raise NotImplementedError()\n"
   ]
  },
  {
   "cell_type": "code",
   "execution_count": null,
   "metadata": {
    "deletable": false,
    "editable": false,
    "nbgrader": {
     "cell_type": "code",
     "checksum": "9c41e175aa77c13acb09a669d0276f8a",
     "grade": true,
     "grade_id": "cell-0se2b6cefe06bdc60",
     "locked": true,
     "points": 1,
     "schema_version": 3,
     "solution": false,
     "task": false
    }
   },
   "outputs": [],
   "source": [
    "# Faca aqui a validacao do Exercício 9.6\n",
    "path_pib = 'https://github.com/alexlopespereira/enapespcd2021/raw/main/data/originais/pib/pib_municipios.xlsx'\n",
    "path_gini = 'https://github.com/alexlopespereira/enapespcd2021/raw/main/data/originais/gini/ginibr.csv'\n",
    "path_pop='https://github.com/alexlopespereira/enapespcd2021/raw/main/data/originais/populacao/estimativa_dou_2017.xlsx'\n",
    "\n",
    "test_data = {'pib_percapita': 344.8, '1991': 0.5, '2000': 0.6, '2010': 0.5}\n",
    "\n",
    "entradas = [[path_pib, path_gini, path_pop]]\n",
    "saidas = [test_data]\n",
    "validate(top10_municipios, entradas, lambda x: x.iloc[0][['pib_percapita', '1991', '2000', '2010']].apply(lambda x: round(x,1)).to_dict(), saidas, \"9.6\")"
   ]
  },
  {
   "cell_type": "markdown",
   "metadata": {},
   "source": [
    "### 9.7 Construa uma função para concatenar (verticalmente) o conteúdo de vários arquivos CSV do dataset de morbidade. Esses arquivos contêm dados com colunas compatíveis.\n",
    "#### Extraia a data do cabeçalho do arquivo. Divida a coluna 'Município' em duas outras contendo o código ibge de 6 caracteres e o nome do município.\n",
    "#### Dica 1: Construa uma lista de arquivos presentes num diretório usando a função glob da biblioteca glob\n",
    "#### Dica 2: Num loop, leia os arquivo duas vezes. Na primeira vez, pra carregar somente a parte desejada do cabeçalho, onde se encontra o mês/ano do respectivo arquivo, utilize o parâmetro nrows. Preste atenção ao separador dos arquivos CSV, é um ponto e vírgula.\n",
    "#### Dica 3: O método split pode dividir uma string na posição de um caracter especificado.\n",
    "#### Dica 4: Use o mapeamento nomes abreviados de meses em português para inglês disponibilizado na célula abaixo. Converta os nomes dos meses para inglês na hora de inseri-los no dataframe. Certifique-se de que está usando a configuração de locale en_US.\n",
    "#### Dica 5: O código strptime(nome_mes,'%b').tm_mon converte nome do mês no seu respectivo número de 1 a 12\n",
    "#### Dica 6: Para criar uma data a partir dos seus atributos use um código semelhante ao exemplo a seguir import datetime datetime.date(year=2020, month=1, day=1)\n",
    "#### Dica 7: Para construir uma nova coluna aplicando uma regra para cada célula use a função apply e construa uma função lambda.\n",
    "#### Dica 8: O método join de uma string consegue unir, com um caracter separador, o conteúdo de uma lista de  elementos numa string. Exemplo: ' '.join(lista_exemplo), produz uma string concatenando com um espaçao os elementos da lista_exemplo. Pode ser útil para isolar o nome do município.\n",
    "#### Dica 9: Adicione todos os dataframes construídos dentro do loop a uma lista e depois use o método concat para concatenar os dataframes verticalmente. Use o parâmetro ignore_index=True para ignorar o índice dos dataframes.\n",
    "\n"
   ]
  },
  {
   "cell_type": "code",
   "execution_count": null,
   "metadata": {},
   "outputs": [],
   "source": [
    "# Faca aqui seus testes do Exercício 9.7\n",
    "# Verifique se os arquivos estão no caminho esperado\n",
    "#!ls ./enapespcd2021/data/originais/morbidade/desagregado/2020/   \n",
    "dir_path = \"./enapespcd2021/data/originais/morbidade/desagregado/2020/\"\n",
    "mapeamento = {\"Jan\":\"Jan\", \"Fev\": \"Feb\", \"Mar\": \"Mar\", \n",
    "              \"Abr\": \"Apr\", \"Mai\":\"May\", \"Jun\":\"Jun\", \"Jul\":\"Jul\", \"Ago\":\"Aug\", \n",
    "              \"Set\":\"Sep\", \"Out\":\"Oct\", \"Nov\":\"Nov\", \"Dez\":\"Dec\"}\n"
   ]
  },
  {
   "cell_type": "code",
   "execution_count": null,
   "metadata": {
    "deletable": false,
    "nbgrader": {
     "cell_type": "code",
     "checksum": "5fe961b161a6c5731288c1d2978668af",
     "grade": false,
     "grade_id": "cell-5b4dc5640fc839be",
     "locked": false,
     "schema_version": 3,
     "solution": true,
     "task": false
    }
   },
   "outputs": [],
   "source": [
    "# Faca aqui sua função do Exercício 9.7\n",
    "def concat_morbidade(dir_path):\n",
    "    \"\"\"Retorne um dataframe com a concatenação vertical dos dados dos arquivos do diretorio dir_path\n",
    "    \"\"\"\n",
    "    # YOUR CODE HERE\n",
    "    raise NotImplementedError()\n"
   ]
  },
  {
   "cell_type": "code",
   "execution_count": null,
   "metadata": {
    "deletable": false,
    "editable": false,
    "nbgrader": {
     "cell_type": "code",
     "checksum": "b9fd42855e3542a114b40a2142f20a02",
     "grade": true,
     "grade_id": "cell-855996270a298a27",
     "locked": true,
     "points": 0,
     "schema_version": 3,
     "solution": false,
     "task": false
    }
   },
   "outputs": [],
   "source": [
    "# Faca aqui a validacao do Exercício 9.7\n",
    "# Os arquivos devem estar nesse caminho\n",
    "dir_path = \"./enapespcd2021/data/originais/morbidade/desagregado/2020/\"\n",
    "test_data1 = {'Valor_médio_intern': '679,75', 'mes': 'Apr', 'ano': '2020', 'cod_ibge6': '110001'}\n",
    "test_data2 = {'Valor_médio_intern': 679.75, 'mes': 'Apr', 'ano': '2020', 'cod_ibge6': '110001'}\n",
    "entradas = [[dir_path]]\n",
    "saidas = [test_data1]\n",
    "\n",
    "val1 = validate(concat_morbidade, entradas, lambda x: x.iloc[0][['Valor_médio_intern','mes','ano','cod_ibge6']].to_dict(), saidas, \"9.7\")\n",
    "\n",
    "if not val1:\n",
    "    saidas = [test_data2]\n",
    "    val2 = validate(concat_morbidade, entradas, lambda x: x.iloc[0][['Valor_médio_intern','mes','ano','cod_ibge6']].to_dict(), saidas, \"7.3\", False)\n",
    "    print(val2)\n",
    "else:\n",
    "    print(val1)"
   ]
  }
 ],
 "metadata": {
  "kernelspec": {
   "display_name": "Python 3",
   "language": "python",
   "name": "python3"
  },
  "language_info": {
   "codemirror_mode": {
    "name": "ipython",
    "version": 3
   },
   "file_extension": ".py",
   "mimetype": "text/x-python",
   "name": "python",
   "nbconvert_exporter": "python",
   "pygments_lexer": "ipython3",
   "version": "3.8.3"
  },
  "name": "_merged",
  "varInspector": {
   "cols": {
    "lenName": 16,
    "lenType": 16,
    "lenVar": 40
   },
   "kernels_config": {
    "python": {
     "delete_cmd_postfix": "",
     "delete_cmd_prefix": "del ",
     "library": "var_list.py",
     "varRefreshCmd": "print(var_dic_list())"
    },
    "r": {
     "delete_cmd_postfix": ") ",
     "delete_cmd_prefix": "rm(",
     "library": "var_list.r",
     "varRefreshCmd": "cat(var_dic_list()) "
    }
   },
   "types_to_exclude": [
    "module",
    "function",
    "builtin_function_or_method",
    "instance",
    "_Feature"
   ],
   "window_display": false
  }
 },
 "nbformat": 4,
 "nbformat_minor": 4
}
